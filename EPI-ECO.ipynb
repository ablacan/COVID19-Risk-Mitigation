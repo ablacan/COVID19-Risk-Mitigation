{
 "cells": [
  {
   "cell_type": "code",
   "execution_count": 1,
   "metadata": {},
   "outputs": [],
   "source": [
    "from __future__ import division # always-float division\n",
    "import numpy as np\n",
    "import pandas as pd\n",
    "import matplotlib.pyplot as plt\n",
    "import seaborn as sn\n",
    "import glob\n",
    "import pprint\n",
    "import os\n",
    "import cv2\n",
    "import re\n",
    "\n",
    "# !pip install pygal_maps_fr\n",
    "from pygal_maps_fr.maps import Departments as mapDeps\n",
    "import pygal\n",
    "from IPython.display import SVG, display\n",
    "\n",
    "# Set some pretty-printing options\n",
    "np.set_printoptions(precision=3, suppress=True, linewidth=120)\n",
    "pd.set_option('float_format', lambda x: '%.3g' % x, )\n",
    "%matplotlib inline"
   ]
  },
  {
   "cell_type": "markdown",
   "metadata": {},
   "source": [
    "## Model classes"
   ]
  },
  {
   "cell_type": "code",
   "execution_count": 76,
   "metadata": {},
   "outputs": [],
   "source": [
    "class Country:\n",
    "    def __init__(self, n=1, k=1):\n",
    "        self.n = n\n",
    "        self.k = k\n",
    "        self.C_S = np.zeros((n,n))\n",
    "        self.C_E = np.zeros((n,n))\n",
    "        self.C_I = np.zeros((n,n))\n",
    "        self.C_R = np.zeros((n,n))\n",
    "        self.regions = []\n",
    "        self.workSectors = []\n",
    "        self.lam = np.zeros(n)\n",
    "        self.beta = np.zeros(n)\n",
    "        self.alpha0 = 0.0\n",
    "        self.sigma = 0.0\n",
    "        self.d_E = 0.0\n",
    "        self.gamma = 0.0\n",
    "        \n",
    "    def idx_region(self, name):\n",
    "        for i in range(len(self.regions)):\n",
    "            r = self.regions[i]\n",
    "            if r.name == name:\n",
    "                return i\n",
    "        return -1\n",
    "    \n",
    "    def seed(self, name, n, target, source='S'):\n",
    "        idx = self.idx_region(name)\n",
    "        assert idx != -1, \"Name not valid\"\n",
    "        \n",
    "        self.regions[idx].seed(n, target, source=source)\n",
    "        \n",
    "        \n",
    "    \n",
    "    def load_regions(self, regs):\n",
    "        assert len(regs) == self.n, \"Region dictionary has different size than country region number\"\n",
    "        self.regions = []\n",
    "        for name, pop in regs.items():\n",
    "            self.regions.append(Region(name, N=pop))\n",
    "            \n",
    "    def set_params(self, params):\n",
    "        assert len(params) == 4, \"Parameter length must be equal to 4\"\n",
    "        self.d_E, self.gamma, self.alpha0, self.sigma = params\n",
    "        \n",
    "    def set_mobility(self, mobilities):\n",
    "        assert len(mobilities) == 4 or len(mobilities) == self.n, \"Bad mobility matrix dimension\"\n",
    "        \n",
    "        if len(mobilities) == self.n:\n",
    "            self.C_S = mobilities\n",
    "            self.C_E = mobilities\n",
    "            self.C_I = mobilities\n",
    "            self.C_R = mobilities\n",
    "        else:\n",
    "            self.C_S = mobilities[0]\n",
    "            self.C_E = mobilities[1]\n",
    "            self.C_I = mobilities[2]\n",
    "            self.C_R = mobilities[3]\n",
    "    \n",
    "    def set_transmission(self, beta):\n",
    "        if isinstance(beta, float):\n",
    "            self.beta.fill(beta)\n",
    "        else:\n",
    "            assert len(beta) == self.n, \"Bad transmission vector dimension\"\n",
    "            self.beta = beta\n",
    "            \n",
    "        \n",
    "    def updateForceInfection(self, overwrite=True):\n",
    "        FOI = np.zeros(self.n)\n",
    "        mobilites = [self.C_S, self.C_E, self.C_I, self.C_R]\n",
    "        for i in range(self.n):\n",
    "            lam_i = 0.0\n",
    "            for j in range(self.n):\n",
    "                num = 0.0\n",
    "                den = 0.0\n",
    "                for k in range(self.n):\n",
    "                    num += self.beta[i] * self.C_I[k, j] * self.regions[k].status[2]\n",
    "                    for x in range(4):\n",
    "                        den += mobilites[x][k, j] * self.regions[k].status[x]\n",
    "                lam_i += self.C_S[i, j] * num / den \n",
    "            FOI[i] = lam_i\n",
    "        if overwrite:\n",
    "            self.lam = FOI\n",
    "        return FOI\n",
    "    \n",
    "    def alpha(self, sigma):\n",
    "        num = 0.0\n",
    "        den = 1.0\n",
    "        for w in self.workSectors:\n",
    "            num += (1 - int(w.isEssential())) * (1 - int(w.isWorking())) * w.workers * (1 - w.s)\n",
    "            den += w.workers\n",
    "        return self.alpha0 * (1 + sigma * num/den)\n",
    "\n",
    "    def summary(self):\n",
    "        return sum([x.status for x in self.regions])\n",
    "\n",
    "    def set_status(self, status):\n",
    "        assert len(status) == 1 or len(status) == len(self.regions), \"Not correct status shape\"\n",
    "        \n",
    "        if len(status) == 1:\n",
    "            for r in self.regions:\n",
    "                r.set_status(status[0])\n",
    "        else:\n",
    "            for i in range(len(status)):\n",
    "                self.regions[i].set_status(status[i])\n",
    "    \n",
    "    def step(self, beta=None, full=True):\n",
    "        \n",
    "        if beta != None:\n",
    "            self.set_transmission(beta)\n",
    "        \n",
    "        self.updateForceInfection()\n",
    "        alpha = self.alpha(self.sigma)\n",
    "        \n",
    "        new_stat = []\n",
    "        \n",
    "        for i in range(len(self.regions)):\n",
    "            lam_i = self.lam[i]\n",
    "#             print(lam_i)\n",
    "            reg_i = self.regions[i]\n",
    "            params_i = [lam_i, self.d_E, self.gamma, alpha]\n",
    "            new_stat.append(reg_i.step(params_i))\n",
    "        \n",
    "        if full:\n",
    "            return new_stat\n",
    "        else:\n",
    "            return sum(new_stat)\n",
    "    \n",
    "    def R0(self):\n",
    "        return self.d_E*np.mean(self.beta)/((self.alpha0 + self.d_E) * (self.alpha0 + self.gamma))\n",
    "\n",
    "\n",
    "\n",
    "\n",
    "\n"
   ]
  },
  {
   "cell_type": "code",
   "execution_count": 67,
   "metadata": {},
   "outputs": [],
   "source": [
    "def reduce_mobility(matrix, r=0.5):\n",
    "    n = matrix.shape[0]\n",
    "    assert n == matrix.shape[1], \"Matrix is nor square\"\n",
    "    new_matrix = matrix.copy()\n",
    "    for i in range(n):\n",
    "        new_matrix[i, i] *= (1 + n * r)\n",
    "        new_matrix[i,:] /= new_matrix[i,:].sum()\n",
    "    return new_matrix"
   ]
  },
  {
   "cell_type": "code",
   "execution_count": 3,
   "metadata": {},
   "outputs": [],
   "source": [
    "class WorkSector:\n",
    "    def __init__(self, name, s=0.0, value=1.0, workers=1):\n",
    "        self.name = name\n",
    "        self.s = s\n",
    "        self.e = 0\n",
    "        self.value = value\n",
    "        self.workers = workers\n",
    "    \n",
    "    def makeEssential(self):\n",
    "        self.e = 1\n",
    "        \n",
    "    def makeNonEssential(self):\n",
    "        self.e = 0\n",
    "    \n",
    "    def isEssential(self):\n",
    "        return self.e == 1\n",
    "    \n",
    "    def isWorking(self, s):\n",
    "        return self.s <= s\n",
    "    "
   ]
  },
  {
   "cell_type": "code",
   "execution_count": 4,
   "metadata": {},
   "outputs": [],
   "source": [
    "class Region:\n",
    "    def __init__(self, name, N=100):\n",
    "        self.name = name\n",
    "        self.N = float(N)\n",
    "        self.status = np.zeros(5)\n",
    "        self.status[0] = self.N\n",
    "        \n",
    "    def step(self, params, overwrite=True):\n",
    "        assert len(params) == 4, \"Parameter list size must be equal to 4\"\n",
    "        lam, d_E, gamma, alpha = params\n",
    "        S, E, I, R, D = self.status\n",
    "        new_status = np.copy(self.status)\n",
    "        new_status[0] += -lam * S\n",
    "        new_status[1] += lam * S - d_E * E\n",
    "        new_status[2] += d_E * E -(gamma + alpha) * I\n",
    "        new_status[3] += gamma * I\n",
    "        new_status[4] += alpha * I\n",
    "        if overwrite:\n",
    "            self.status =  new_status\n",
    "        return self.status\n",
    "    \n",
    "    def set_status(self, status):\n",
    "        assert np.sum(status) == self.N, \"Total status quantities are not equal\"\n",
    "        assert len(status) == len(self.status), \"Status shape not consistent\"\n",
    "\n",
    "        self.status =  np.array([float(i) for i in status])\n",
    "    \n",
    "    def seed(self, n, target, source='S'):\n",
    "        \n",
    "        mapping = {'S': 0, 'E': 1, 'I': 2, 'R': 3, 'D': 4}\n",
    "        new_status = np.copy(self.status)\n",
    "        new_status[mapping[target]] += n\n",
    "        new_status[mapping[source]] -= n\n",
    "        self.set_status(new_status)        \n",
    "    "
   ]
  },
  {
   "cell_type": "markdown",
   "metadata": {},
   "source": [
    "## Plotting functions"
   ]
  },
  {
   "cell_type": "code",
   "execution_count": 5,
   "metadata": {},
   "outputs": [],
   "source": [
    "def ramp(x):\n",
    "    if x < 0:\n",
    "        return 0\n",
    "    else:\n",
    "        return int(x)\n",
    "\n",
    "def color_palette(n):\n",
    "    \"\"\"\n",
    "    Creates heatmap color palette yellow --> red --> violet of a given resolution for map plotting\n",
    "    \"\"\"\n",
    "    assert n > 0 and n <= 512, \"n for color palette must be between 1 and 512\"\n",
    "    # Sample from max color resolution \n",
    "    t_values = np.linspace(0, 511, num=n)\n",
    "    colors = []\n",
    "    # Tone setting\n",
    "    base_red = 215\n",
    "    # Add colors\n",
    "    for t in t_values:\n",
    "        r = base_red\n",
    "        g = ramp(255 - t*base_red/255)\n",
    "        b = ramp(t*base_red/255 - 256)\n",
    "        hexcolor = '#%02x%02x%02x' % (r, g, b)\n",
    "        colors.append(hexcolor)\n",
    "    return tuple(colors)\n",
    "\n",
    "def plotmap(data_dict, title, intervals=5, max_value=None, fname=None):\n",
    "    \"\"\"\n",
    "    Country heatmap of data_dict, with department keys and given len of intervals\n",
    "    \"\"\"\n",
    "    # Pygal plot configuration\n",
    "    palette = color_palette(intervals)\n",
    "    custom_style = pygal.style.Style(background='#FFFFFF', \n",
    "                                     plot_background='#FFFFFF',\n",
    "                                     foreground='#404040',\n",
    "                                     foreground_strong='#000000',\n",
    "                                     foreground_subtle='#8E8E8E',\n",
    "                                     colors=palette\n",
    "                                    )\n",
    "    mapchart = mapDeps(human_readable=False, legend_at_bottom=False, style=custom_style)\n",
    "    mapchart.title = title\n",
    "    \n",
    "    # Max value setting\n",
    "    if max_value != None:\n",
    "        max_value = max_value\n",
    "    else:\n",
    "        max_value = max(data_dict.values())\n",
    "    # Interval creation\n",
    "    thresholds = list(np.linspace(0.0, max_value, intervals + 1))[1:]\n",
    "    # Stocking list of values per interval\n",
    "    deps_i = []\n",
    "    i = 0\n",
    "    # For sorted values, divide according to available intervals\n",
    "    for k, v in sorted(data_dict.items(), key=lambda item: item[1]):\n",
    "        if v <= thresholds[i]:\n",
    "            deps_i.append(k)\n",
    "        else:\n",
    "            # Name accordingly and start next interval's list of values\n",
    "            series_title = '< %.2f' % (thresholds[i])\n",
    "            mapchart.add(series_title, deps_i)\n",
    "            deps_i = [k]\n",
    "            i += 1\n",
    "    # Plot last interval\n",
    "    series_title = '< %.2f' % (thresholds[i])\n",
    "    mapchart.add(series_title, deps_i)\n",
    "    # Render & display or save to PNG file\n",
    "    render = mapchart.render()\n",
    "    if fname != None:\n",
    "        mapchart.render_to_png(fname)\n",
    "    else:\n",
    "        display(SVG(render))\n",
    "        \n",
    "def human_sort(l):\n",
    "    \"\"\"\n",
    "    Sorts in a 'natural order' a list of strings e.g. 1, 2, ..., 10, 11 instead of 1, 10, 11, 2, 3, ..., 9\n",
    "    \"\"\"\n",
    "    convert = lambda text: int(text) if text.isdigit() else text.lower() \n",
    "    alphanum_key = lambda key: [ convert(c) for c in re.split('([0-9]+)', key) ] \n",
    "    return sorted(l, key = alphanum_key)\n",
    "\n",
    "def make_vid(folder):\n",
    "    \"\"\"\n",
    "    Saves an mp4 video out of naturally numbered png images (800x600) in given folder\n",
    "    \"\"\"\n",
    "    files = glob.glob(folder+'/*.png', recursive=True)\n",
    "    files = human_sort(files)\n",
    "    outfile = folder+'output.mp4'\n",
    "    out = cv2.VideoWriter(outfile, cv2.VideoWriter_fourcc(*'XVID'), 1, (800,600))\n",
    "    for imfile in files:\n",
    "        im = cv2.imread(imfile)\n",
    "        out.write(im)\n",
    "    cv2.destroyAllWindows()\n",
    "    out.release()\n",
    "    print('Video saved to '+ outfile)\n",
    "\n",
    "def evolution_video(csvfile, col_suffix, var):\n",
    "    df = pd.read_csv(csvfile, sep=',')\n",
    "    # Set most ancient data to 0\n",
    "    df.loc[0, df.columns != 'date'] = df.loc[0, df.columns != 'date'].apply(lambda x: 0)\n",
    "    # Forward-fill NaN: old value is maintained until not-NaN value\n",
    "    df.ffill(axis=0, inplace=True)\n",
    "    \n",
    "    H_cols = [x for x in df.columns if col_suffix in x]\n",
    "    H_cols.insert(0, 'date')\n",
    "    df_H = df.filter(items=H_cols)\n",
    "    df_H.columns = [x.split('_')[0] for x in H_cols]\n",
    "    deps = df_H.columns[1:]\n",
    "    max_val = max(df_H.drop('date', axis=1).max())\n",
    "    # Check path\n",
    "    if not os.path.isdir('./plots/'):\n",
    "        os.mkdir('./plots/')\n",
    "    folder = './plots/'+col_suffix+'/'\n",
    "    if not os.path.isdir(folder):\n",
    "        os.mkdir(folder)\n",
    "    \n",
    "    print('Saving frames...')\n",
    "    for i in list(df_H.index.values):\n",
    "        data_i = df_H.loc[i]\n",
    "        title = var +' on '+data_i['date']\n",
    "        dict_i = {}\n",
    "        for d in deps:\n",
    "            dict_i[d] = data_i[d]\n",
    "        plotmap(dict_i, title, intervals=10, max_value=max_val, fname=folder+str(i)+'.png')\n",
    "        dict_i.clear()\n",
    "        \n",
    "    make_vid(folder)"
   ]
  },
  {
   "cell_type": "markdown",
   "metadata": {},
   "source": [
    "## Data"
   ]
  },
  {
   "cell_type": "code",
   "execution_count": 6,
   "metadata": {},
   "outputs": [
    {
     "name": "stdout",
     "output_type": "stream",
     "text": [
      "Available files:\n",
      "['../../data/clean\\\\ECO\\\\CAC 40_quote_chart.csv',\n",
      " '../../data/clean\\\\ECO\\\\data_confinement_cadrage.csv',\n",
      " '../../data/clean\\\\ECO\\\\joint_mobility.csv',\n",
      " '../../data/clean\\\\ECO\\\\meta_confinement_cadrage.csv',\n",
      " '../../data/clean\\\\ECO\\\\META_valeurs_mensuelles.csv',\n",
      " '../../data/clean\\\\ECO\\\\PIB_VA_variation_prixAnneePrecedente.csv',\n",
      " '../../data/clean\\\\ECO\\\\school_mobility.csv',\n",
      " '../../data/clean\\\\ECO\\\\school_mobility_META.csv',\n",
      " '../../data/clean\\\\ECO\\\\secteurs_age_sexe_2018.csv',\n",
      " '../../data/clean\\\\ECO\\\\sncf_mobility.csv',\n",
      " '../../data/clean\\\\ECO\\\\valeurs_mensuelles.csv',\n",
      " '../../data/clean\\\\ECO\\\\work_mobility.csv',\n",
      " '../../data/clean\\\\ECO\\\\work_mobility_META.csv',\n",
      " '../../data/clean\\\\EPI\\\\deps_population.csv',\n",
      " '../../data/clean\\\\EPI\\\\france.csv',\n",
      " '../../data/clean\\\\EPI\\\\france_attrs.csv',\n",
      " '../../data/clean\\\\EPI\\\\france_departments.csv']\n"
     ]
    }
   ],
   "source": [
    "print(\"Available files:\")\n",
    "files=glob.glob(\"../../data/clean/*/*.csv\", recursive=True)\n",
    "pprint.pprint(files)"
   ]
  },
  {
   "cell_type": "code",
   "execution_count": 69,
   "metadata": {},
   "outputs": [],
   "source": [
    "with open('../../data/clean\\\\ECO\\\\work_mobility_META.csv', 'r') as file:\n",
    "    dep_names = file.read().strip().split(';')\n",
    "\n",
    "C_S = np.loadtxt('../../data/clean\\\\ECO\\\\joint_mobility.csv', delimiter=';')\n",
    "C_E = C_S\n",
    "C_I = reduce_mobility(C_S, r=0.8)\n",
    "C_R = C_S\n",
    "\n",
    "with open('../../data/clean\\\\EPI\\\\deps_population.csv', 'r') as file:\n",
    "    keys = file.readline().strip().split(', ')\n",
    "    vals = [int(i) for i in file.readline().strip().split(',')]\n",
    "    deps_dict = dict(zip(keys, vals))\n",
    "\n",
    "unusued_keys = [i for i in deps_dict.keys() if i not in dep_names]\n",
    "for key in unusued_keys:\n",
    "    del deps_dict[key]"
   ]
  },
  {
   "cell_type": "code",
   "execution_count": 70,
   "metadata": {},
   "outputs": [],
   "source": [
    "d_E = 1/5.1 # https://www.acpjournals.org/doi/10.7326/M20-0504\n",
    "alpha = 0.006 # https://www.nature.com/articles/d41586-020-01738-2\n",
    "gamma = 1/16.0\n",
    "beta0 = 3.5\n",
    "sigma = 0.0"
   ]
  },
  {
   "cell_type": "code",
   "execution_count": 71,
   "metadata": {},
   "outputs": [],
   "source": [
    "def beta(t):\n",
    "    t1 = 20\n",
    "    dt1 = 5\n",
    "    t2 = 30\n",
    "    dt2 = 5\n",
    "    b1 = 0.2\n",
    "    b2 = 0.5\n",
    "    \n",
    "    if t < t1:\n",
    "        return beta0\n",
    "    elif t < t1 + dt1:\n",
    "        return beta0*(1 + (t - t1) * (b1 - 1)/dt1)\n",
    "    elif t < t1 + dt1 + t2:\n",
    "        return beta0*b1\n",
    "    elif t < t1 + dt1 + t2 + dt2:\n",
    "        return beta0*(b1 + (t - t1 - dt1 - t2) * (b2 - b1)/dt2)\n",
    "    else:\n",
    "        return beta0*b2"
   ]
  },
  {
   "cell_type": "code",
   "execution_count": 72,
   "metadata": {},
   "outputs": [],
   "source": [
    "test = Country(n=len(dep_names))\n",
    "test.load_regions(deps_dict)\n",
    "test.set_mobility([C_S, C_E, C_I, C_R])\n",
    "test.set_params([d_E, gamma, alpha, sigma])\n",
    "test.set_transmission(beta0)"
   ]
  },
  {
   "cell_type": "code",
   "execution_count": 73,
   "metadata": {},
   "outputs": [
    {
     "data": {
      "text/plain": [
       "array([64897953.,        1.,        0.,        0.,        0.])"
      ]
     },
     "execution_count": 73,
     "metadata": {},
     "output_type": "execute_result"
    }
   ],
   "source": [
    "# One exposed individual in IDF\n",
    "test.seed('75', 1, 'E')\n",
    "test.summary()"
   ]
  },
  {
   "cell_type": "code",
   "execution_count": 74,
   "metadata": {},
   "outputs": [
    {
     "name": "stdout",
     "output_type": "stream",
     "text": [
      "Running step 0\n",
      "Running step 5\n",
      "Running step 10\n",
      "Running step 15\n",
      "Running step 20\n",
      "Running step 25\n",
      "Running step 30\n",
      "Running step 35\n",
      "Running step 40\n",
      "Running step 45\n",
      "Running step 50\n",
      "Running step 55\n",
      "Running step 60\n",
      "Running step 65\n",
      "Running step 70\n",
      "Running step 75\n",
      "Running step 80\n",
      "Running step 85\n",
      "Running step 90\n",
      "Running step 95\n"
     ]
    }
   ],
   "source": [
    "steps = 100\n",
    "lectures = []\n",
    "for i in range(steps):\n",
    "    if i % 5 == 0:\n",
    "        print('Running step %d' % (i))\n",
    "    beta_i = beta(i)\n",
    "    test.set_transmission(beta_i)\n",
    "    \n",
    "    new_state = test.step(full=False)\n",
    "    lectures.append(new_state)\n",
    "    \n",
    "lectures = np.array(lectures)\n",
    "S, E, I, R, D = lectures.T"
   ]
  },
  {
   "cell_type": "code",
   "execution_count": 75,
   "metadata": {},
   "outputs": [
    {
     "data": {
      "image/png": "[encoded data removed]",
      "text/plain": [
       "<Figure size 1080x720 with 1 Axes>"
      ]
     },
     "metadata": {},
     "output_type": "display_data"
    }
   ],
   "source": [
    "t = np.linspace(0, steps, steps)\n",
    "\n",
    "# Figure\n",
    "plt.rcParams['figure.figsize'] = (15,10) \n",
    "fig = plt.figure(facecolor='w')\n",
    "ax = fig.add_subplot(111, facecolor='w', axisbelow=True)\n",
    "# ax.plot(t, S, 'b', alpha=0.5, lw=2, label='Susceptible')\n",
    "ax.plot(t, I, 'r', alpha=0.5, lw=2, label='Infected')\n",
    "ax.plot(t, R, 'g', alpha=0.5, lw=2, label='Recovered with immunity')\n",
    "ax.plot(t, D, 'k', alpha=0.5, lw=2, label='Dead')\n",
    "ax.plot(t, E, 'y', alpha=0.5, lw=2, label='Exposed')\n",
    "\n",
    "ax.set_xlabel('Time /days')\n",
    "ax.set_ylabel('Number')\n",
    "ax.set_ylim(-0.01,1e6)\n",
    "ax.set_xlim(-1,steps)\n",
    "ax.yaxis.set_tick_params(length=0)\n",
    "ax.xaxis.set_tick_params(length=0)\n",
    "ax.grid(b=True, which='major', c='#B6B6B6', lw=0.5, ls='-')\n",
    "legend = ax.legend()\n",
    "legend.get_frame().set_alpha(0.5)\n",
    "for spine in ('top', 'right', 'bottom', 'left'):\n",
    "    ax.spines[spine].set_visible(False)\n",
    "plt.show()"
   ]
  },
  {
   "cell_type": "code",
   "execution_count": null,
   "metadata": {},
   "outputs": [],
   "source": [
    "lectures[-1]"
   ]
  },
  {
   "cell_type": "code",
   "execution_count": 26,
   "metadata": {},
   "outputs": [],
   "source": [
    "beta0 = 1.0\n",
    "t = np.linspace(0, 150, 150)\n",
    "y = np.array([beta(i) for i in t])"
   ]
  },
  {
   "cell_type": "code",
   "execution_count": 27,
   "metadata": {},
   "outputs": [
    {
     "data": {
      "text/plain": [
       "[<matplotlib.lines.Line2D at 0x134b9d86808>]"
      ]
     },
     "execution_count": 27,
     "metadata": {},
     "output_type": "execute_result"
    },
    {
     "data": {
      "image/png": "[encoded data removed]",
      "text/plain": [
       "<Figure size 1080x720 with 1 Axes>"
      ]
     },
     "metadata": {
      "needs_background": "light"
     },
     "output_type": "display_data"
    }
   ],
   "source": [
    "plt.plot(t,y)"
   ]
  },
  {
   "cell_type": "code",
   "execution_count": null,
   "metadata": {},
   "outputs": [],
   "source": []
  },
  {
   "cell_type": "markdown",
   "metadata": {},
   "source": [
    "## Plotting available data"
   ]
  },
  {
   "cell_type": "code",
   "execution_count": null,
   "metadata": {},
   "outputs": [],
   "source": [
    "# evolution_video('../../data/clean\\\\EPI\\\\france_departments.csv', 'hosp', 'Hospitalizations')"
   ]
  },
  {
   "cell_type": "code",
   "execution_count": null,
   "metadata": {},
   "outputs": [],
   "source": [
    "# evolution_video('../../data/clean\\\\EPI\\\\france_departments.csv', 'rea', 'Reanimations')"
   ]
  },
  {
   "cell_type": "code",
   "execution_count": null,
   "metadata": {},
   "outputs": [],
   "source": [
    "# evolution_video('../../data/clean\\\\EPI\\\\france_departments.csv', 'dc', 'Deaths')"
   ]
  },
  {
   "cell_type": "code",
   "execution_count": null,
   "metadata": {},
   "outputs": [],
   "source": []
  }
 ],
 "metadata": {
  "kernelspec": {
   "display_name": "Python 3",
   "language": "python",
   "name": "python3"
  },
  "language_info": {
   "codemirror_mode": {
    "name": "ipython",
    "version": 3
   },
   "file_extension": ".py",
   "mimetype": "text/x-python",
   "name": "python",
   "nbconvert_exporter": "python",
   "pygments_lexer": "ipython3",
   "version": "3.7.6"
  }
 },
 "nbformat": 4,
 "nbformat_minor": 4
}
