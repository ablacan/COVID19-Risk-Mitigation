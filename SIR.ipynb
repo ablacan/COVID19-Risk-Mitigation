{
 "cells": [
  {
   "cell_type": "code",
   "execution_count": 33,
   "metadata": {},
   "outputs": [
    {
     "data": {
      "text/html": [
       "\n",
       "    <div class=\"bk-root\">\n",
       "        <a href=\"https://bokeh.org\" target=\"_blank\" class=\"bk-logo bk-logo-small bk-logo-notebook\"></a>\n",
       "        <span id=\"3539\">Loading BokehJS ...</span>\n",
       "    </div>"
      ]
     },
     "metadata": {},
     "output_type": "display_data"
    },
    {
     "data": {
      "application/javascript": [
       "\n",
       "(function(root) {\n",
       "  function now() {\n",
       "    return new Date();\n",
       "  }\n",
       "\n",
       "  var force = true;\n",
       "\n",
       "  if (typeof root._bokeh_onload_callbacks === \"undefined\" || force === true) {\n",
       "    root._bokeh_onload_callbacks = [];\n",
       "    root._bokeh_is_loading = undefined;\n",
       "  }\n",
       "\n",
       "  var JS_MIME_TYPE = 'application/javascript';\n",
       "  var HTML_MIME_TYPE = 'text/html';\n",
       "  var EXEC_MIME_TYPE = 'application/vnd.bokehjs_exec.v0+json';\n",
       "  var CLASS_NAME = 'output_bokeh rendered_html';\n",
       "\n",
       "  /**\n",
       "   * Render data to the DOM node\n",
       "   */\n",
       "  function render(props, node) {\n",
       "    var script = document.createElement(\"script\");\n",
       "    node.appendChild(script);\n",
       "  }\n",
       "\n",
       "  /**\n",
       "   * Handle when an output is cleared or removed\n",
       "   */\n",
       "  function handleClearOutput(event, handle) {\n",
       "    var cell = handle.cell;\n",
       "\n",
       "    var id = cell.output_area._bokeh_element_id;\n",
       "    var server_id = cell.output_area._bokeh_server_id;\n",
       "    // Clean up Bokeh references\n",
       "    if (id != null && id in Bokeh.index) {\n",
       "      Bokeh.index[id].model.document.clear();\n",
       "      delete Bokeh.index[id];\n",
       "    }\n",
       "\n",
       "    if (server_id !== undefined) {\n",
       "      // Clean up Bokeh references\n",
       "      var cmd = \"from bokeh.io.state import curstate; print(curstate().uuid_to_server['\" + server_id + \"'].get_sessions()[0].document.roots[0]._id)\";\n",
       "      cell.notebook.kernel.execute(cmd, {\n",
       "        iopub: {\n",
       "          output: function(msg) {\n",
       "            var id = msg.content.text.trim();\n",
       "            if (id in Bokeh.index) {\n",
       "              Bokeh.index[id].model.document.clear();\n",
       "              delete Bokeh.index[id];\n",
       "            }\n",
       "          }\n",
       "        }\n",
       "      });\n",
       "      // Destroy server and session\n",
       "      var cmd = \"import bokeh.io.notebook as ion; ion.destroy_server('\" + server_id + \"')\";\n",
       "      cell.notebook.kernel.execute(cmd);\n",
       "    }\n",
       "  }\n",
       "\n",
       "  /**\n",
       "   * Handle when a new output is added\n",
       "   */\n",
       "  function handleAddOutput(event, handle) {\n",
       "    var output_area = handle.output_area;\n",
       "    var output = handle.output;\n",
       "\n",
       "    // limit handleAddOutput to display_data with EXEC_MIME_TYPE content only\n",
       "    if ((output.output_type != \"display_data\") || (!output.data.hasOwnProperty(EXEC_MIME_TYPE))) {\n",
       "      return\n",
       "    }\n",
       "\n",
       "    var toinsert = output_area.element.find(\".\" + CLASS_NAME.split(' ')[0]);\n",
       "\n",
       "    if (output.metadata[EXEC_MIME_TYPE][\"id\"] !== undefined) {\n",
       "      toinsert[toinsert.length - 1].firstChild.textContent = output.data[JS_MIME_TYPE];\n",
       "      // store reference to embed id on output_area\n",
       "      output_area._bokeh_element_id = output.metadata[EXEC_MIME_TYPE][\"id\"];\n",
       "    }\n",
       "    if (output.metadata[EXEC_MIME_TYPE][\"server_id\"] !== undefined) {\n",
       "      var bk_div = document.createElement(\"div\");\n",
       "      bk_div.innerHTML = output.data[HTML_MIME_TYPE];\n",
       "      var script_attrs = bk_div.children[0].attributes;\n",
       "      for (var i = 0; i < script_attrs.length; i++) {\n",
       "        toinsert[toinsert.length - 1].firstChild.setAttribute(script_attrs[i].name, script_attrs[i].value);\n",
       "        toinsert[toinsert.length - 1].firstChild.textContent = bk_div.children[0].textContent\n",
       "      }\n",
       "      // store reference to server id on output_area\n",
       "      output_area._bokeh_server_id = output.metadata[EXEC_MIME_TYPE][\"server_id\"];\n",
       "    }\n",
       "  }\n",
       "\n",
       "  function register_renderer(events, OutputArea) {\n",
       "\n",
       "    function append_mime(data, metadata, element) {\n",
       "      // create a DOM node to render to\n",
       "      var toinsert = this.create_output_subarea(\n",
       "        metadata,\n",
       "        CLASS_NAME,\n",
       "        EXEC_MIME_TYPE\n",
       "      );\n",
       "      this.keyboard_manager.register_events(toinsert);\n",
       "      // Render to node\n",
       "      var props = {data: data, metadata: metadata[EXEC_MIME_TYPE]};\n",
       "      render(props, toinsert[toinsert.length - 1]);\n",
       "      element.append(toinsert);\n",
       "      return toinsert\n",
       "    }\n",
       "\n",
       "    /* Handle when an output is cleared or removed */\n",
       "    events.on('clear_output.CodeCell', handleClearOutput);\n",
       "    events.on('delete.Cell', handleClearOutput);\n",
       "\n",
       "    /* Handle when a new output is added */\n",
       "    events.on('output_added.OutputArea', handleAddOutput);\n",
       "\n",
       "    /**\n",
       "     * Register the mime type and append_mime function with output_area\n",
       "     */\n",
       "    OutputArea.prototype.register_mime_type(EXEC_MIME_TYPE, append_mime, {\n",
       "      /* Is output safe? */\n",
       "      safe: true,\n",
       "      /* Index of renderer in `output_area.display_order` */\n",
       "      index: 0\n",
       "    });\n",
       "  }\n",
       "\n",
       "  // register the mime type if in Jupyter Notebook environment and previously unregistered\n",
       "  if (root.Jupyter !== undefined) {\n",
       "    var events = require('base/js/events');\n",
       "    var OutputArea = require('notebook/js/outputarea').OutputArea;\n",
       "\n",
       "    if (OutputArea.prototype.mime_types().indexOf(EXEC_MIME_TYPE) == -1) {\n",
       "      register_renderer(events, OutputArea);\n",
       "    }\n",
       "  }\n",
       "\n",
       "  \n",
       "  if (typeof (root._bokeh_timeout) === \"undefined\" || force === true) {\n",
       "    root._bokeh_timeout = Date.now() + 5000;\n",
       "    root._bokeh_failed_load = false;\n",
       "  }\n",
       "\n",
       "  var NB_LOAD_WARNING = {'data': {'text/html':\n",
       "     \"<div style='background-color: #fdd'>\\n\"+\n",
       "     \"<p>\\n\"+\n",
       "     \"BokehJS does not appear to have successfully loaded. If loading BokehJS from CDN, this \\n\"+\n",
       "     \"may be due to a slow or bad network connection. Possible fixes:\\n\"+\n",
       "     \"</p>\\n\"+\n",
       "     \"<ul>\\n\"+\n",
       "     \"<li>re-rerun `output_notebook()` to attempt to load from CDN again, or</li>\\n\"+\n",
       "     \"<li>use INLINE resources instead, as so:</li>\\n\"+\n",
       "     \"</ul>\\n\"+\n",
       "     \"<code>\\n\"+\n",
       "     \"from bokeh.resources import INLINE\\n\"+\n",
       "     \"output_notebook(resources=INLINE)\\n\"+\n",
       "     \"</code>\\n\"+\n",
       "     \"</div>\"}};\n",
       "\n",
       "  function display_loaded() {\n",
       "    var el = document.getElementById(\"3539\");\n",
       "    if (el != null) {\n",
       "      el.textContent = \"BokehJS is loading...\";\n",
       "    }\n",
       "    if (root.Bokeh !== undefined) {\n",
       "      if (el != null) {\n",
       "        el.textContent = \"BokehJS \" + root.Bokeh.version + \" successfully loaded.\";\n",
       "      }\n",
       "    } else if (Date.now() < root._bokeh_timeout) {\n",
       "      setTimeout(display_loaded, 100)\n",
       "    }\n",
       "  }\n",
       "\n",
       "\n",
       "  function run_callbacks() {\n",
       "    try {\n",
       "      root._bokeh_onload_callbacks.forEach(function(callback) {\n",
       "        if (callback != null)\n",
       "          callback();\n",
       "      });\n",
       "    } finally {\n",
       "      delete root._bokeh_onload_callbacks\n",
       "    }\n",
       "    console.debug(\"Bokeh: all callbacks have finished\");\n",
       "  }\n",
       "\n",
       "  function load_libs(css_urls, js_urls, callback) {\n",
       "    if (css_urls == null) css_urls = [];\n",
       "    if (js_urls == null) js_urls = [];\n",
       "\n",
       "    root._bokeh_onload_callbacks.push(callback);\n",
       "    if (root._bokeh_is_loading > 0) {\n",
       "      console.debug(\"Bokeh: BokehJS is being loaded, scheduling callback at\", now());\n",
       "      return null;\n",
       "    }\n",
       "    if (js_urls == null || js_urls.length === 0) {\n",
       "      run_callbacks();\n",
       "      return null;\n",
       "    }\n",
       "    console.debug(\"Bokeh: BokehJS not loaded, scheduling load and callback at\", now());\n",
       "    root._bokeh_is_loading = css_urls.length + js_urls.length;\n",
       "\n",
       "    function on_load() {\n",
       "      root._bokeh_is_loading--;\n",
       "      if (root._bokeh_is_loading === 0) {\n",
       "        console.debug(\"Bokeh: all BokehJS libraries/stylesheets loaded\");\n",
       "        run_callbacks()\n",
       "      }\n",
       "    }\n",
       "\n",
       "    function on_error() {\n",
       "      console.error(\"failed to load \" + url);\n",
       "    }\n",
       "\n",
       "    for (var i = 0; i < css_urls.length; i++) {\n",
       "      var url = css_urls[i];\n",
       "      const element = document.createElement(\"link\");\n",
       "      element.onload = on_load;\n",
       "      element.onerror = on_error;\n",
       "      element.rel = \"stylesheet\";\n",
       "      element.type = \"text/css\";\n",
       "      element.href = url;\n",
       "      console.debug(\"Bokeh: injecting link tag for BokehJS stylesheet: \", url);\n",
       "      document.body.appendChild(element);\n",
       "    }\n",
       "\n",
       "    const hashes = {\"https://cdn.bokeh.org/bokeh/release/bokeh-2.0.1.min.js\": \"JpP8FXbgAZLkfur7LiK3j9AGBhHNIvF742meBJrjO2ShJDhCG2I1uVvW+0DUtrmc\", \"https://cdn.bokeh.org/bokeh/release/bokeh-widgets-2.0.1.min.js\": \"xZlADit0Q04ISQEdKg2k3L4W9AwQBAuDs9nJL9fM/WwzL1tEU9VPNezOFX0nLEAz\", \"https://cdn.bokeh.org/bokeh/release/bokeh-tables-2.0.1.min.js\": \"4BuPRZkdMKSnj3zoxiNrQ86XgNw0rYmBOxe7nshquXwwcauupgBF2DHLVG1WuZlV\", \"https://cdn.bokeh.org/bokeh/release/bokeh-gl-2.0.1.min.js\": \"Dv1SQ87hmDqK6S5OhBf0bCuwAEvL5QYL0PuR/F1SPVhCS/r/abjkbpKDYL2zeM19\"};\n",
       "\n",
       "    for (var i = 0; i < js_urls.length; i++) {\n",
       "      var url = js_urls[i];\n",
       "      var element = document.createElement('script');\n",
       "      element.onload = on_load;\n",
       "      element.onerror = on_error;\n",
       "      element.async = false;\n",
       "      element.src = url;\n",
       "      if (url in hashes) {\n",
       "        element.crossOrigin = \"anonymous\";\n",
       "        element.integrity = \"sha384-\" + hashes[url];\n",
       "      }\n",
       "      console.debug(\"Bokeh: injecting script tag for BokehJS library: \", url);\n",
       "      document.head.appendChild(element);\n",
       "    }\n",
       "  };var element = document.getElementById(\"3539\");\n",
       "  if (element == null) {\n",
       "    console.error(\"Bokeh: ERROR: autoload.js configured with elementid '3539' but no matching script tag was found. \")\n",
       "    return false;\n",
       "  }\n",
       "\n",
       "  function inject_raw_css(css) {\n",
       "    const element = document.createElement(\"style\");\n",
       "    element.appendChild(document.createTextNode(css));\n",
       "    document.body.appendChild(element);\n",
       "  }\n",
       "\n",
       "  \n",
       "  var js_urls = [\"https://cdn.bokeh.org/bokeh/release/bokeh-2.0.1.min.js\", \"https://cdn.bokeh.org/bokeh/release/bokeh-widgets-2.0.1.min.js\", \"https://cdn.bokeh.org/bokeh/release/bokeh-tables-2.0.1.min.js\", \"https://cdn.bokeh.org/bokeh/release/bokeh-gl-2.0.1.min.js\"];\n",
       "  var css_urls = [];\n",
       "  \n",
       "\n",
       "  var inline_js = [\n",
       "    function(Bokeh) {\n",
       "      Bokeh.set_log_level(\"info\");\n",
       "    },\n",
       "    function(Bokeh) {\n",
       "    \n",
       "    \n",
       "    }\n",
       "  ];\n",
       "\n",
       "  function run_inline_js() {\n",
       "    \n",
       "    if (root.Bokeh !== undefined || force === true) {\n",
       "      \n",
       "    for (var i = 0; i < inline_js.length; i++) {\n",
       "      inline_js[i].call(root, root.Bokeh);\n",
       "    }\n",
       "    if (force === true) {\n",
       "        display_loaded();\n",
       "      }} else if (Date.now() < root._bokeh_timeout) {\n",
       "      setTimeout(run_inline_js, 100);\n",
       "    } else if (!root._bokeh_failed_load) {\n",
       "      console.log(\"Bokeh: BokehJS failed to load within specified timeout.\");\n",
       "      root._bokeh_failed_load = true;\n",
       "    } else if (force !== true) {\n",
       "      var cell = $(document.getElementById(\"3539\")).parents('.cell').data().cell;\n",
       "      cell.output_area.append_execute_result(NB_LOAD_WARNING)\n",
       "    }\n",
       "\n",
       "  }\n",
       "\n",
       "  if (root._bokeh_is_loading === 0) {\n",
       "    console.debug(\"Bokeh: BokehJS loaded, going straight to plotting\");\n",
       "    run_inline_js();\n",
       "  } else {\n",
       "    load_libs(css_urls, js_urls, function() {\n",
       "      console.debug(\"Bokeh: BokehJS plotting callback run at\", now());\n",
       "      run_inline_js();\n",
       "    });\n",
       "  }\n",
       "}(window));"
      ],
      "application/vnd.bokehjs_load.v0+json": "\n(function(root) {\n  function now() {\n    return new Date();\n  }\n\n  var force = true;\n\n  if (typeof root._bokeh_onload_callbacks === \"undefined\" || force === true) {\n    root._bokeh_onload_callbacks = [];\n    root._bokeh_is_loading = undefined;\n  }\n\n  \n\n  \n  if (typeof (root._bokeh_timeout) === \"undefined\" || force === true) {\n    root._bokeh_timeout = Date.now() + 5000;\n    root._bokeh_failed_load = false;\n  }\n\n  var NB_LOAD_WARNING = {'data': {'text/html':\n     \"<div style='background-color: #fdd'>\\n\"+\n     \"<p>\\n\"+\n     \"BokehJS does not appear to have successfully loaded. If loading BokehJS from CDN, this \\n\"+\n     \"may be due to a slow or bad network connection. Possible fixes:\\n\"+\n     \"</p>\\n\"+\n     \"<ul>\\n\"+\n     \"<li>re-rerun `output_notebook()` to attempt to load from CDN again, or</li>\\n\"+\n     \"<li>use INLINE resources instead, as so:</li>\\n\"+\n     \"</ul>\\n\"+\n     \"<code>\\n\"+\n     \"from bokeh.resources import INLINE\\n\"+\n     \"output_notebook(resources=INLINE)\\n\"+\n     \"</code>\\n\"+\n     \"</div>\"}};\n\n  function display_loaded() {\n    var el = document.getElementById(\"3539\");\n    if (el != null) {\n      el.textContent = \"BokehJS is loading...\";\n    }\n    if (root.Bokeh !== undefined) {\n      if (el != null) {\n        el.textContent = \"BokehJS \" + root.Bokeh.version + \" successfully loaded.\";\n      }\n    } else if (Date.now() < root._bokeh_timeout) {\n      setTimeout(display_loaded, 100)\n    }\n  }\n\n\n  function run_callbacks() {\n    try {\n      root._bokeh_onload_callbacks.forEach(function(callback) {\n        if (callback != null)\n          callback();\n      });\n    } finally {\n      delete root._bokeh_onload_callbacks\n    }\n    console.debug(\"Bokeh: all callbacks have finished\");\n  }\n\n  function load_libs(css_urls, js_urls, callback) {\n    if (css_urls == null) css_urls = [];\n    if (js_urls == null) js_urls = [];\n\n    root._bokeh_onload_callbacks.push(callback);\n    if (root._bokeh_is_loading > 0) {\n      console.debug(\"Bokeh: BokehJS is being loaded, scheduling callback at\", now());\n      return null;\n    }\n    if (js_urls == null || js_urls.length === 0) {\n      run_callbacks();\n      return null;\n    }\n    console.debug(\"Bokeh: BokehJS not loaded, scheduling load and callback at\", now());\n    root._bokeh_is_loading = css_urls.length + js_urls.length;\n\n    function on_load() {\n      root._bokeh_is_loading--;\n      if (root._bokeh_is_loading === 0) {\n        console.debug(\"Bokeh: all BokehJS libraries/stylesheets loaded\");\n        run_callbacks()\n      }\n    }\n\n    function on_error() {\n      console.error(\"failed to load \" + url);\n    }\n\n    for (var i = 0; i < css_urls.length; i++) {\n      var url = css_urls[i];\n      const element = document.createElement(\"link\");\n      element.onload = on_load;\n      element.onerror = on_error;\n      element.rel = \"stylesheet\";\n      element.type = \"text/css\";\n      element.href = url;\n      console.debug(\"Bokeh: injecting link tag for BokehJS stylesheet: \", url);\n      document.body.appendChild(element);\n    }\n\n    const hashes = {\"https://cdn.bokeh.org/bokeh/release/bokeh-2.0.1.min.js\": \"JpP8FXbgAZLkfur7LiK3j9AGBhHNIvF742meBJrjO2ShJDhCG2I1uVvW+0DUtrmc\", \"https://cdn.bokeh.org/bokeh/release/bokeh-widgets-2.0.1.min.js\": \"xZlADit0Q04ISQEdKg2k3L4W9AwQBAuDs9nJL9fM/WwzL1tEU9VPNezOFX0nLEAz\", \"https://cdn.bokeh.org/bokeh/release/bokeh-tables-2.0.1.min.js\": \"4BuPRZkdMKSnj3zoxiNrQ86XgNw0rYmBOxe7nshquXwwcauupgBF2DHLVG1WuZlV\", \"https://cdn.bokeh.org/bokeh/release/bokeh-gl-2.0.1.min.js\": \"Dv1SQ87hmDqK6S5OhBf0bCuwAEvL5QYL0PuR/F1SPVhCS/r/abjkbpKDYL2zeM19\"};\n\n    for (var i = 0; i < js_urls.length; i++) {\n      var url = js_urls[i];\n      var element = document.createElement('script');\n      element.onload = on_load;\n      element.onerror = on_error;\n      element.async = false;\n      element.src = url;\n      if (url in hashes) {\n        element.crossOrigin = \"anonymous\";\n        element.integrity = \"sha384-\" + hashes[url];\n      }\n      console.debug(\"Bokeh: injecting script tag for BokehJS library: \", url);\n      document.head.appendChild(element);\n    }\n  };var element = document.getElementById(\"3539\");\n  if (element == null) {\n    console.error(\"Bokeh: ERROR: autoload.js configured with elementid '3539' but no matching script tag was found. \")\n    return false;\n  }\n\n  function inject_raw_css(css) {\n    const element = document.createElement(\"style\");\n    element.appendChild(document.createTextNode(css));\n    document.body.appendChild(element);\n  }\n\n  \n  var js_urls = [\"https://cdn.bokeh.org/bokeh/release/bokeh-2.0.1.min.js\", \"https://cdn.bokeh.org/bokeh/release/bokeh-widgets-2.0.1.min.js\", \"https://cdn.bokeh.org/bokeh/release/bokeh-tables-2.0.1.min.js\", \"https://cdn.bokeh.org/bokeh/release/bokeh-gl-2.0.1.min.js\"];\n  var css_urls = [];\n  \n\n  var inline_js = [\n    function(Bokeh) {\n      Bokeh.set_log_level(\"info\");\n    },\n    function(Bokeh) {\n    \n    \n    }\n  ];\n\n  function run_inline_js() {\n    \n    if (root.Bokeh !== undefined || force === true) {\n      \n    for (var i = 0; i < inline_js.length; i++) {\n      inline_js[i].call(root, root.Bokeh);\n    }\n    if (force === true) {\n        display_loaded();\n      }} else if (Date.now() < root._bokeh_timeout) {\n      setTimeout(run_inline_js, 100);\n    } else if (!root._bokeh_failed_load) {\n      console.log(\"Bokeh: BokehJS failed to load within specified timeout.\");\n      root._bokeh_failed_load = true;\n    } else if (force !== true) {\n      var cell = $(document.getElementById(\"3539\")).parents('.cell').data().cell;\n      cell.output_area.append_execute_result(NB_LOAD_WARNING)\n    }\n\n  }\n\n  if (root._bokeh_is_loading === 0) {\n    console.debug(\"Bokeh: BokehJS loaded, going straight to plotting\");\n    run_inline_js();\n  } else {\n    load_libs(css_urls, js_urls, function() {\n      console.debug(\"Bokeh: BokehJS plotting callback run at\", now());\n      run_inline_js();\n    });\n  }\n}(window));"
     },
     "metadata": {},
     "output_type": "display_data"
    }
   ],
   "source": [
    "import numpy as np\n",
    "import networkx as nx\n",
    "import ndlib.models.ModelConfig as mc\n",
    "import ndlib.models.epidemics as ep\n",
    "from ndlib.viz.bokeh.DiffusionTrend import DiffusionTrend\n",
    "from ndlib.viz.bokeh.DiffusionPrevalence import DiffusionPrevalence\n",
    "from bokeh.io  import output_notebook, show\n",
    "from bokeh.plotting import figure, from_networkx\n",
    "\n",
    "output_notebook()"
   ]
  },
  {
   "cell_type": "code",
   "execution_count": 34,
   "metadata": {},
   "outputs": [],
   "source": [
    "# Seed\n",
    "rnd_seed = 42\n",
    "\n",
    "# Network topology\n",
    "g = nx.erdos_renyi_graph(1000, 0.1, seed=rnd_seed)\n",
    "\n",
    "# Model selection\n",
    "model = ep.SEIRModel(g)\n",
    "\n",
    "# Model iteration\n",
    "t_steps = 400"
   ]
  },
  {
   "cell_type": "code",
   "execution_count": 35,
   "metadata": {},
   "outputs": [],
   "source": [
    "# Model Configuration\n",
    "cfg = mc.Configuration()\n",
    "cfg.add_model_parameter('beta', 0.01)\n",
    "cfg.add_model_parameter('gamma', 0.005)\n",
    "cfg.add_model_parameter('alpha', 0.05)\n",
    "cfg.add_model_parameter(\"fraction_infected\", 0.05)\n",
    "model.set_initial_status(cfg)\n",
    "\n",
    "# Simulation execution\n",
    "iterations = model.iteration_bunch(t_steps)\n",
    "trends = model.build_trends(iterations)"
   ]
  },
  {
   "cell_type": "code",
   "execution_count": 61,
   "metadata": {},
   "outputs": [
    {
     "data": {
      "text/plain": [
       "950"
      ]
     },
     "execution_count": 61,
     "metadata": {},
     "output_type": "execute_result"
    }
   ],
   "source": [
    "list(iterations[0]['status'].values()).count(0)"
   ]
  },
  {
   "cell_type": "code",
   "execution_count": 49,
   "metadata": {},
   "outputs": [
    {
     "name": "stdout",
     "output_type": "stream",
     "text": [
      "False\n"
     ]
    }
   ],
   "source": [
    "print(np.sum(list(iterations[0]['status'].values())) ==1)"
   ]
  },
  {
   "cell_type": "code",
   "execution_count": 13,
   "metadata": {},
   "outputs": [
    {
     "name": "stderr",
     "output_type": "stream",
     "text": [
      "BokehDeprecationWarning: 'legend' keyword is deprecated, use explicit 'legend_label', 'legend_field', or 'legend_group' keywords instead\n",
      "BokehDeprecationWarning: 'legend' keyword is deprecated, use explicit 'legend_label', 'legend_field', or 'legend_group' keywords instead\n",
      "BokehDeprecationWarning: 'legend' keyword is deprecated, use explicit 'legend_label', 'legend_field', or 'legend_group' keywords instead\n",
      "BokehDeprecationWarning: 'legend' keyword is deprecated, use explicit 'legend_label', 'legend_field', or 'legend_group' keywords instead\n"
     ]
    },
    {
     "data": {
      "text/html": [
       "\n",
       "\n",
       "\n",
       "\n",
       "\n",
       "\n",
       "  <div class=\"bk-root\" id=\"fa09a8a7-4d99-414b-8f4e-e39a672221a2\" data-root-id=\"1003\"></div>\n"
      ]
     },
     "metadata": {},
     "output_type": "display_data"
    },
    {
     "data": {
      "application/javascript": [
       "(function(root) {\n",
       "  function embed_document(root) {\n",
       "    \n",
       "  var docs_json = {\"839ead8e-ffa4-41d2-9408-ba3cc42fe2a1\":{\"roots\":{\"references\":[{\"attributes\":{\"below\":[{\"id\":\"1012\"},{\"id\":\"1100\"}],\"center\":[{\"id\":\"1015\"},{\"id\":\"1019\"},{\"id\":\"1046\"}],\"left\":[{\"id\":\"1016\"}],\"plot_width\":800,\"renderers\":[{\"id\":\"1037\"},{\"id\":\"1051\"},{\"id\":\"1066\"},{\"id\":\"1083\"}],\"title\":{\"id\":\"1039\"},\"toolbar\":{\"id\":\"1027\"},\"x_range\":{\"id\":\"1004\"},\"x_scale\":{\"id\":\"1008\"},\"y_range\":{\"id\":\"1006\"},\"y_scale\":{\"id\":\"1010\"}},\"id\":\"1003\",\"subtype\":\"Figure\",\"type\":\"Plot\"},{\"attributes\":{\"line_alpha\":0.1,\"line_color\":\"#ffbb78\",\"line_width\":2,\"x\":{\"field\":\"x\"},\"y\":{\"field\":\"y\"}},\"id\":\"1082\",\"type\":\"Line\"},{\"attributes\":{},\"id\":\"1013\",\"type\":\"BasicTicker\"},{\"attributes\":{},\"id\":\"1097\",\"type\":\"Selection\"},{\"attributes\":{\"axis\":{\"id\":\"1012\"},\"grid_line_alpha\":0.5,\"ticker\":null},\"id\":\"1015\",\"type\":\"Grid\"},{\"attributes\":{\"label\":{\"value\":\"Infected\"},\"renderers\":[{\"id\":\"1066\"}]},\"id\":\"1079\",\"type\":\"LegendItem\"},{\"attributes\":{},\"id\":\"1021\",\"type\":\"WheelZoomTool\"},{\"attributes\":{\"source\":{\"id\":\"1080\"}},\"id\":\"1084\",\"type\":\"CDSView\"},{\"attributes\":{},\"id\":\"1041\",\"type\":\"BasicTickFormatter\"},{\"attributes\":{},\"id\":\"1078\",\"type\":\"Selection\"},{\"attributes\":{},\"id\":\"1020\",\"type\":\"PanTool\"},{\"attributes\":{},\"id\":\"1023\",\"type\":\"SaveTool\"},{\"attributes\":{\"line_alpha\":0.5,\"line_color\":\"#1f77b4\",\"line_width\":2,\"x\":{\"field\":\"x\"},\"y\":{\"field\":\"y\"}},\"id\":\"1035\",\"type\":\"Line\"},{\"attributes\":{\"bottom_units\":\"screen\",\"fill_alpha\":0.5,\"fill_color\":\"lightgrey\",\"left_units\":\"screen\",\"level\":\"overlay\",\"line_alpha\":1.0,\"line_color\":\"black\",\"line_dash\":[4,4],\"line_width\":2,\"render_mode\":\"css\",\"right_units\":\"screen\",\"top_units\":\"screen\"},\"id\":\"1026\",\"type\":\"BoxAnnotation\"},{\"attributes\":{\"data_source\":{\"id\":\"1048\"},\"glyph\":{\"id\":\"1049\"},\"hover_glyph\":null,\"muted_glyph\":null,\"nonselection_glyph\":{\"id\":\"1050\"},\"selection_glyph\":null,\"view\":{\"id\":\"1052\"}},\"id\":\"1051\",\"type\":\"GlyphRenderer\"},{\"attributes\":{},\"id\":\"1061\",\"type\":\"Selection\"},{\"attributes\":{\"line_alpha\":0.5,\"line_color\":\"#ffbb78\",\"line_width\":2,\"x\":{\"field\":\"x\"},\"y\":{\"field\":\"y\"}},\"id\":\"1081\",\"type\":\"Line\"},{\"attributes\":{\"text\":\"SEIR - Diffusion Trend\"},\"id\":\"1039\",\"type\":\"Title\"},{\"attributes\":{\"axis_label\":\"Iterations\",\"formatter\":{\"id\":\"1043\"},\"ticker\":{\"id\":\"1013\"}},\"id\":\"1012\",\"type\":\"LinearAxis\"},{\"attributes\":{\"label\":{\"value\":\"Removed\"},\"renderers\":[{\"id\":\"1083\"}]},\"id\":\"1098\",\"type\":\"LegendItem\"},{\"attributes\":{\"source\":{\"id\":\"1063\"}},\"id\":\"1067\",\"type\":\"CDSView\"},{\"attributes\":{\"data\":{\"x\":[0,1,2,3,4,5,6,7,8,9,10,11,12,13,14,15,16,17,18,19,20,21,22,23,24,25,26,27,28,29,30,31,32,33,34,35,36,37,38,39,40,41,42,43,44,45,46,47,48,49,50,51,52,53,54,55,56,57,58,59,60,61,62,63,64,65,66,67,68,69,70,71,72,73,74,75,76,77,78,79,80,81,82,83,84,85,86,87,88,89,90,91,92,93,94,95,96,97,98,99,100,101,102,103,104,105,106,107,108,109,110,111,112,113,114,115,116,117,118,119,120,121,122,123,124,125,126,127,128,129,130,131,132,133,134,135,136,137,138,139,140,141,142,143,144,145,146,147,148,149,150,151,152,153,154,155,156,157,158,159,160,161,162,163,164,165,166,167,168,169,170,171,172,173,174,175,176,177,178,179,180,181,182,183,184,185,186,187,188,189,190,191,192,193,194,195,196,197,198,199,200,201,202,203,204,205,206,207,208,209,210,211,212,213,214,215,216,217,218,219,220,221,222,223,224,225,226,227,228,229,230,231,232,233,234,235,236,237,238,239,240,241,242,243,244,245,246,247,248,249,250,251,252,253,254,255,256,257,258,259,260,261,262,263,264,265,266,267,268,269,270,271,272,273,274,275,276,277,278,279,280,281,282,283,284,285,286,287,288,289,290,291,292,293,294,295,296,297,298,299,300,301,302,303,304,305,306,307,308,309,310,311,312,313,314,315,316,317,318,319,320,321,322,323,324,325,326,327,328,329,330,331,332,333,334,335,336,337,338,339,340,341,342,343,344,345,346,347,348,349,350,351,352,353,354,355,356,357,358,359,360,361,362,363,364,365,366,367,368,369,370,371,372,373,374,375,376,377,378,379,380,381,382,383,384,385,386,387,388,389,390,391,392,393,394,395,396,397,398,399],\"y\":{\"__ndarray__\":\"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\",\"dtype\":\"float64\",\"shape\":[400]}},\"selected\":{\"id\":\"1115\"},\"selection_policy\":{\"id\":\"1114\"}},\"id\":\"1080\",\"type\":\"ColumnDataSource\"},{\"attributes\":{\"axis\":{\"id\":\"1016\"},\"dimension\":1,\"grid_line_alpha\":0.5,\"ticker\":null},\"id\":\"1019\",\"type\":\"Grid\"},{\"attributes\":{\"label\":{\"value\":\"Susceptible\"},\"renderers\":[{\"id\":\"1037\"}]},\"id\":\"1047\",\"type\":\"LegendItem\"},{\"attributes\":{\"line_alpha\":0.5,\"line_color\":\"#aec7e8\",\"line_width\":2,\"x\":{\"field\":\"x\"},\"y\":{\"field\":\"y\"}},\"id\":\"1049\",\"type\":\"Line\"},{\"attributes\":{\"items\":[{\"id\":\"1047\"},{\"id\":\"1062\"},{\"id\":\"1079\"},{\"id\":\"1098\"}],\"orientation\":\"horizontal\"},\"id\":\"1046\",\"type\":\"Legend\"},{\"attributes\":{\"source\":{\"id\":\"1034\"}},\"id\":\"1038\",\"type\":\"CDSView\"},{\"attributes\":{},\"id\":\"1115\",\"type\":\"Selection\"},{\"attributes\":{\"data_source\":{\"id\":\"1063\"},\"glyph\":{\"id\":\"1064\"},\"hover_glyph\":null,\"muted_glyph\":null,\"nonselection_glyph\":{\"id\":\"1065\"},\"selection_glyph\":null,\"view\":{\"id\":\"1067\"}},\"id\":\"1066\",\"type\":\"GlyphRenderer\"},{\"attributes\":{\"overlay\":{\"id\":\"1026\"}},\"id\":\"1022\",\"type\":\"BoxZoomTool\"},{\"attributes\":{\"line_alpha\":0.1,\"line_color\":\"#1f77b4\",\"line_width\":2,\"x\":{\"field\":\"x\"},\"y\":{\"field\":\"y\"}},\"id\":\"1036\",\"type\":\"Line\"},{\"attributes\":{},\"id\":\"1060\",\"type\":\"UnionRenderers\"},{\"attributes\":{\"data\":{\"x\":[0,1,2,3,4,5,6,7,8,9,10,11,12,13,14,15,16,17,18,19,20,21,22,23,24,25,26,27,28,29,30,31,32,33,34,35,36,37,38,39,40,41,42,43,44,45,46,47,48,49,50,51,52,53,54,55,56,57,58,59,60,61,62,63,64,65,66,67,68,69,70,71,72,73,74,75,76,77,78,79,80,81,82,83,84,85,86,87,88,89,90,91,92,93,94,95,96,97,98,99,100,101,102,103,104,105,106,107,108,109,110,111,112,113,114,115,116,117,118,119,120,121,122,123,124,125,126,127,128,129,130,131,132,133,134,135,136,137,138,139,140,141,142,143,144,145,146,147,148,149,150,151,152,153,154,155,156,157,158,159,160,161,162,163,164,165,166,167,168,169,170,171,172,173,174,175,176,177,178,179,180,181,182,183,184,185,186,187,188,189,190,191,192,193,194,195,196,197,198,199,200,201,202,203,204,205,206,207,208,209,210,211,212,213,214,215,216,217,218,219,220,221,222,223,224,225,226,227,228,229,230,231,232,233,234,235,236,237,238,239,240,241,242,243,244,245,246,247,248,249,250,251,252,253,254,255,256,257,258,259,260,261,262,263,264,265,266,267,268,269,270,271,272,273,274,275,276,277,278,279,280,281,282,283,284,285,286,287,288,289,290,291,292,293,294,295,296,297,298,299,300,301,302,303,304,305,306,307,308,309,310,311,312,313,314,315,316,317,318,319,320,321,322,323,324,325,326,327,328,329,330,331,332,333,334,335,336,337,338,339,340,341,342,343,344,345,346,347,348,349,350,351,352,353,354,355,356,357,358,359,360,361,362,363,364,365,366,367,368,369,370,371,372,373,374,375,376,377,378,379,380,381,382,383,384,385,386,387,388,389,390,391,392,393,394,395,396,397,398,399],\"y\":{\"__ndarray__\":\"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\",\"dtype\":\"float64\",\"shape\":[400]}},\"selected\":{\"id\":\"1078\"},\"selection_policy\":{\"id\":\"1077\"}},\"id\":\"1048\",\"type\":\"ColumnDataSource\"},{\"attributes\":{\"align\":\"center\",\"text\":\"beta: 0.01, gamma: 0.005, alpha: 0.05, fraction infected: 0.05, tp rate: 1\"},\"id\":\"1100\",\"type\":\"Title\"},{\"attributes\":{},\"id\":\"1114\",\"type\":\"UnionRenderers\"},{\"attributes\":{\"active_drag\":\"auto\",\"active_inspect\":\"auto\",\"active_multi\":null,\"active_scroll\":\"auto\",\"active_tap\":\"auto\",\"tools\":[{\"id\":\"1020\"},{\"id\":\"1021\"},{\"id\":\"1022\"},{\"id\":\"1023\"},{\"id\":\"1024\"},{\"id\":\"1025\"}]},\"id\":\"1027\",\"type\":\"Toolbar\"},{\"attributes\":{},\"id\":\"1010\",\"type\":\"LinearScale\"},{\"attributes\":{},\"id\":\"1008\",\"type\":\"LinearScale\"},{\"attributes\":{},\"id\":\"1006\",\"type\":\"DataRange1d\"},{\"attributes\":{},\"id\":\"1096\",\"type\":\"UnionRenderers\"},{\"attributes\":{\"label\":{\"value\":\"Exposed\"},\"renderers\":[{\"id\":\"1051\"}]},\"id\":\"1062\",\"type\":\"LegendItem\"},{\"attributes\":{\"line_alpha\":0.1,\"line_color\":\"#ff7f0e\",\"line_width\":2,\"x\":{\"field\":\"x\"},\"y\":{\"field\":\"y\"}},\"id\":\"1065\",\"type\":\"Line\"},{\"attributes\":{},\"id\":\"1004\",\"type\":\"DataRange1d\"},{\"attributes\":{\"axis_label\":\"#Nodes\",\"formatter\":{\"id\":\"1041\"},\"ticker\":{\"id\":\"1017\"}},\"id\":\"1016\",\"type\":\"LinearAxis\"},{\"attributes\":{},\"id\":\"1024\",\"type\":\"ResetTool\"},{\"attributes\":{\"line_alpha\":0.1,\"line_color\":\"#aec7e8\",\"line_width\":2,\"x\":{\"field\":\"x\"},\"y\":{\"field\":\"y\"}},\"id\":\"1050\",\"type\":\"Line\"},{\"attributes\":{\"source\":{\"id\":\"1048\"}},\"id\":\"1052\",\"type\":\"CDSView\"},{\"attributes\":{\"data_source\":{\"id\":\"1080\"},\"glyph\":{\"id\":\"1081\"},\"hover_glyph\":null,\"muted_glyph\":null,\"nonselection_glyph\":{\"id\":\"1082\"},\"selection_glyph\":null,\"view\":{\"id\":\"1084\"}},\"id\":\"1083\",\"type\":\"GlyphRenderer\"},{\"attributes\":{\"line_alpha\":0.5,\"line_color\":\"#ff7f0e\",\"line_width\":2,\"x\":{\"field\":\"x\"},\"y\":{\"field\":\"y\"}},\"id\":\"1064\",\"type\":\"Line\"},{\"attributes\":{\"data\":{\"x\":[0,1,2,3,4,5,6,7,8,9,10,11,12,13,14,15,16,17,18,19,20,21,22,23,24,25,26,27,28,29,30,31,32,33,34,35,36,37,38,39,40,41,42,43,44,45,46,47,48,49,50,51,52,53,54,55,56,57,58,59,60,61,62,63,64,65,66,67,68,69,70,71,72,73,74,75,76,77,78,79,80,81,82,83,84,85,86,87,88,89,90,91,92,93,94,95,96,97,98,99,100,101,102,103,104,105,106,107,108,109,110,111,112,113,114,115,116,117,118,119,120,121,122,123,124,125,126,127,128,129,130,131,132,133,134,135,136,137,138,139,140,141,142,143,144,145,146,147,148,149,150,151,152,153,154,155,156,157,158,159,160,161,162,163,164,165,166,167,168,169,170,171,172,173,174,175,176,177,178,179,180,181,182,183,184,185,186,187,188,189,190,191,192,193,194,195,196,197,198,199,200,201,202,203,204,205,206,207,208,209,210,211,212,213,214,215,216,217,218,219,220,221,222,223,224,225,226,227,228,229,230,231,232,233,234,235,236,237,238,239,240,241,242,243,244,245,246,247,248,249,250,251,252,253,254,255,256,257,258,259,260,261,262,263,264,265,266,267,268,269,270,271,272,273,274,275,276,277,278,279,280,281,282,283,284,285,286,287,288,289,290,291,292,293,294,295,296,297,298,299,300,301,302,303,304,305,306,307,308,309,310,311,312,313,314,315,316,317,318,319,320,321,322,323,324,325,326,327,328,329,330,331,332,333,334,335,336,337,338,339,340,341,342,343,344,345,346,347,348,349,350,351,352,353,354,355,356,357,358,359,360,361,362,363,364,365,366,367,368,369,370,371,372,373,374,375,376,377,378,379,380,381,382,383,384,385,386,387,388,389,390,391,392,393,394,395,396,397,398,399],\"y\":{\"__ndarray__\":\"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\",\"dtype\":\"float64\",\"shape\":[400]}},\"selected\":{\"id\":\"1097\"},\"selection_policy\":{\"id\":\"1096\"}},\"id\":\"1063\",\"type\":\"ColumnDataSource\"},{\"attributes\":{},\"id\":\"1043\",\"type\":\"BasicTickFormatter\"},{\"attributes\":{},\"id\":\"1025\",\"type\":\"HelpTool\"},{\"attributes\":{\"data\":{\"x\":[0,1,2,3,4,5,6,7,8,9,10,11,12,13,14,15,16,17,18,19,20,21,22,23,24,25,26,27,28,29,30,31,32,33,34,35,36,37,38,39,40,41,42,43,44,45,46,47,48,49,50,51,52,53,54,55,56,57,58,59,60,61,62,63,64,65,66,67,68,69,70,71,72,73,74,75,76,77,78,79,80,81,82,83,84,85,86,87,88,89,90,91,92,93,94,95,96,97,98,99,100,101,102,103,104,105,106,107,108,109,110,111,112,113,114,115,116,117,118,119,120,121,122,123,124,125,126,127,128,129,130,131,132,133,134,135,136,137,138,139,140,141,142,143,144,145,146,147,148,149,150,151,152,153,154,155,156,157,158,159,160,161,162,163,164,165,166,167,168,169,170,171,172,173,174,175,176,177,178,179,180,181,182,183,184,185,186,187,188,189,190,191,192,193,194,195,196,197,198,199,200,201,202,203,204,205,206,207,208,209,210,211,212,213,214,215,216,217,218,219,220,221,222,223,224,225,226,227,228,229,230,231,232,233,234,235,236,237,238,239,240,241,242,243,244,245,246,247,248,249,250,251,252,253,254,255,256,257,258,259,260,261,262,263,264,265,266,267,268,269,270,271,272,273,274,275,276,277,278,279,280,281,282,283,284,285,286,287,288,289,290,291,292,293,294,295,296,297,298,299,300,301,302,303,304,305,306,307,308,309,310,311,312,313,314,315,316,317,318,319,320,321,322,323,324,325,326,327,328,329,330,331,332,333,334,335,336,337,338,339,340,341,342,343,344,345,346,347,348,349,350,351,352,353,354,355,356,357,358,359,360,361,362,363,364,365,366,367,368,369,370,371,372,373,374,375,376,377,378,379,380,381,382,383,384,385,386,387,388,389,390,391,392,393,394,395,396,397,398,399],\"y\":{\"__ndarray__\":\"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\",\"dtype\":\"float64\",\"shape\":[400]}},\"selected\":{\"id\":\"1061\"},\"selection_policy\":{\"id\":\"1060\"}},\"id\":\"1034\",\"type\":\"ColumnDataSource\"},{\"attributes\":{},\"id\":\"1077\",\"type\":\"UnionRenderers\"},{\"attributes\":{},\"id\":\"1017\",\"type\":\"BasicTicker\"},{\"attributes\":{\"data_source\":{\"id\":\"1034\"},\"glyph\":{\"id\":\"1035\"},\"hover_glyph\":null,\"muted_glyph\":null,\"nonselection_glyph\":{\"id\":\"1036\"},\"selection_glyph\":null,\"view\":{\"id\":\"1038\"}},\"id\":\"1037\",\"type\":\"GlyphRenderer\"}],\"root_ids\":[\"1003\"]},\"title\":\"Bokeh Application\",\"version\":\"2.0.1\"}};\n",
       "  var render_items = [{\"docid\":\"839ead8e-ffa4-41d2-9408-ba3cc42fe2a1\",\"root_ids\":[\"1003\"],\"roots\":{\"1003\":\"fa09a8a7-4d99-414b-8f4e-e39a672221a2\"}}];\n",
       "  root.Bokeh.embed.embed_items_notebook(docs_json, render_items);\n",
       "\n",
       "  }\n",
       "  if (root.Bokeh !== undefined) {\n",
       "    embed_document(root);\n",
       "  } else {\n",
       "    var attempts = 0;\n",
       "    var timer = setInterval(function(root) {\n",
       "      if (root.Bokeh !== undefined) {\n",
       "        clearInterval(timer);\n",
       "        embed_document(root);\n",
       "      } else {\n",
       "        attempts++;\n",
       "        if (attempts > 100) {\n",
       "          clearInterval(timer);\n",
       "          console.log(\"Bokeh: ERROR: Unable to run BokehJS code because BokehJS library is missing\");\n",
       "        }\n",
       "      }\n",
       "    }, 10, root)\n",
       "  }\n",
       "})(window);"
      ],
      "application/vnd.bokehjs_exec.v0+json": ""
     },
     "metadata": {
      "application/vnd.bokehjs_exec.v0+json": {
       "id": "1003"
      }
     },
     "output_type": "display_data"
    }
   ],
   "source": [
    "# Visualization\n",
    "viz = DiffusionTrend(model, trends)\n",
    "p = viz.plot(width=800, height=600)\n",
    "show(p)"
   ]
  },
  {
   "cell_type": "code",
   "execution_count": 14,
   "metadata": {},
   "outputs": [
    {
     "name": "stderr",
     "output_type": "stream",
     "text": [
      "BokehDeprecationWarning: 'legend' keyword is deprecated, use explicit 'legend_label', 'legend_field', or 'legend_group' keywords instead\n",
      "BokehDeprecationWarning: 'legend' keyword is deprecated, use explicit 'legend_label', 'legend_field', or 'legend_group' keywords instead\n",
      "BokehDeprecationWarning: 'legend' keyword is deprecated, use explicit 'legend_label', 'legend_field', or 'legend_group' keywords instead\n",
      "BokehDeprecationWarning: 'legend' keyword is deprecated, use explicit 'legend_label', 'legend_field', or 'legend_group' keywords instead\n"
     ]
    },
    {
     "data": {
      "text/html": [
       "\n",
       "\n",
       "\n",
       "\n",
       "\n",
       "\n",
       "  <div class=\"bk-root\" id=\"1ce55523-59ff-4f92-ac4e-768546478f0e\" data-root-id=\"1206\"></div>\n"
      ]
     },
     "metadata": {},
     "output_type": "display_data"
    },
    {
     "data": {
      "application/javascript": [
       "(function(root) {\n",
       "  function embed_document(root) {\n",
       "    \n",
       "  var docs_json = {\"b7a243e1-4c22-4df3-b531-f0a01a18a08f\":{\"roots\":{\"references\":[{\"attributes\":{\"below\":[{\"id\":\"1215\"},{\"id\":\"1303\"}],\"center\":[{\"id\":\"1218\"},{\"id\":\"1222\"},{\"id\":\"1249\"}],\"left\":[{\"id\":\"1219\"}],\"plot_width\":800,\"renderers\":[{\"id\":\"1240\"},{\"id\":\"1254\"},{\"id\":\"1269\"},{\"id\":\"1286\"}],\"title\":{\"id\":\"1242\"},\"toolbar\":{\"id\":\"1230\"},\"x_range\":{\"id\":\"1207\"},\"x_scale\":{\"id\":\"1211\"},\"y_range\":{\"id\":\"1209\"},\"y_scale\":{\"id\":\"1213\"}},\"id\":\"1206\",\"subtype\":\"Figure\",\"type\":\"Plot\"},{\"attributes\":{\"source\":{\"id\":\"1237\"}},\"id\":\"1241\",\"type\":\"CDSView\"},{\"attributes\":{},\"id\":\"1300\",\"type\":\"Selection\"},{\"attributes\":{\"bottom_units\":\"screen\",\"fill_alpha\":0.5,\"fill_color\":\"lightgrey\",\"left_units\":\"screen\",\"level\":\"overlay\",\"line_alpha\":1.0,\"line_color\":\"black\",\"line_dash\":[4,4],\"line_width\":2,\"render_mode\":\"css\",\"right_units\":\"screen\",\"top_units\":\"screen\"},\"id\":\"1229\",\"type\":\"BoxAnnotation\"},{\"attributes\":{},\"id\":\"1332\",\"type\":\"UnionRenderers\"},{\"attributes\":{},\"id\":\"1333\",\"type\":\"Selection\"},{\"attributes\":{\"source\":{\"id\":\"1266\"}},\"id\":\"1270\",\"type\":\"CDSView\"},{\"attributes\":{\"line_alpha\":0.1,\"line_color\":\"#aec7e8\",\"line_width\":2,\"x\":{\"field\":\"x\"},\"y\":{\"field\":\"y\"}},\"id\":\"1253\",\"type\":\"Line\"},{\"attributes\":{\"line_alpha\":0.1,\"line_color\":\"#ffbb78\",\"line_width\":2,\"x\":{\"field\":\"x\"},\"y\":{\"field\":\"y\"}},\"id\":\"1285\",\"type\":\"Line\"},{\"attributes\":{\"line_alpha\":0.5,\"line_color\":\"#ffbb78\",\"line_width\":2,\"x\":{\"field\":\"x\"},\"y\":{\"field\":\"y\"}},\"id\":\"1284\",\"type\":\"Line\"},{\"attributes\":{\"active_drag\":\"auto\",\"active_inspect\":\"auto\",\"active_multi\":null,\"active_scroll\":\"auto\",\"active_tap\":\"auto\",\"tools\":[{\"id\":\"1223\"},{\"id\":\"1224\"},{\"id\":\"1225\"},{\"id\":\"1226\"},{\"id\":\"1227\"},{\"id\":\"1228\"}]},\"id\":\"1230\",\"type\":\"Toolbar\"},{\"attributes\":{\"data_source\":{\"id\":\"1251\"},\"glyph\":{\"id\":\"1252\"},\"hover_glyph\":null,\"muted_glyph\":null,\"nonselection_glyph\":{\"id\":\"1253\"},\"selection_glyph\":null,\"view\":{\"id\":\"1255\"}},\"id\":\"1254\",\"type\":\"GlyphRenderer\"},{\"attributes\":{\"line_alpha\":0.1,\"line_color\":\"#1f77b4\",\"line_width\":2,\"x\":{\"field\":\"x\"},\"y\":{\"field\":\"y\"}},\"id\":\"1239\",\"type\":\"Line\"},{\"attributes\":{},\"id\":\"1281\",\"type\":\"Selection\"},{\"attributes\":{\"data_source\":{\"id\":\"1237\"},\"glyph\":{\"id\":\"1238\"},\"hover_glyph\":null,\"muted_glyph\":null,\"nonselection_glyph\":{\"id\":\"1239\"},\"selection_glyph\":null,\"view\":{\"id\":\"1241\"}},\"id\":\"1240\",\"type\":\"GlyphRenderer\"},{\"attributes\":{\"axis\":{\"id\":\"1219\"},\"dimension\":1,\"grid_line_alpha\":0.5,\"ticker\":null},\"id\":\"1222\",\"type\":\"Grid\"},{\"attributes\":{},\"id\":\"1280\",\"type\":\"UnionRenderers\"},{\"attributes\":{\"text\":\"SEIR - Prevalence\"},\"id\":\"1242\",\"type\":\"Title\"},{\"attributes\":{},\"id\":\"1213\",\"type\":\"LinearScale\"},{\"attributes\":{\"line_alpha\":0.5,\"line_color\":\"#ff7f0e\",\"line_width\":2,\"x\":{\"field\":\"x\"},\"y\":{\"field\":\"y\"}},\"id\":\"1267\",\"type\":\"Line\"},{\"attributes\":{},\"id\":\"1207\",\"type\":\"DataRange1d\"},{\"attributes\":{\"label\":{\"value\":\"Susceptible\"},\"renderers\":[{\"id\":\"1240\"}]},\"id\":\"1250\",\"type\":\"LegendItem\"},{\"attributes\":{},\"id\":\"1220\",\"type\":\"BasicTicker\"},{\"attributes\":{\"line_alpha\":0.1,\"line_color\":\"#ff7f0e\",\"line_width\":2,\"x\":{\"field\":\"x\"},\"y\":{\"field\":\"y\"}},\"id\":\"1268\",\"type\":\"Line\"},{\"attributes\":{\"axis_label\":\"#Delta Nodes\",\"formatter\":{\"id\":\"1244\"},\"ticker\":{\"id\":\"1220\"}},\"id\":\"1219\",\"type\":\"LinearAxis\"},{\"attributes\":{\"line_alpha\":0.5,\"line_color\":\"#1f77b4\",\"line_width\":2,\"x\":{\"field\":\"x\"},\"y\":{\"field\":\"y\"}},\"id\":\"1238\",\"type\":\"Line\"},{\"attributes\":{\"line_alpha\":0.5,\"line_color\":\"#aec7e8\",\"line_width\":2,\"x\":{\"field\":\"x\"},\"y\":{\"field\":\"y\"}},\"id\":\"1252\",\"type\":\"Line\"},{\"attributes\":{\"source\":{\"id\":\"1283\"}},\"id\":\"1287\",\"type\":\"CDSView\"},{\"attributes\":{},\"id\":\"1228\",\"type\":\"HelpTool\"},{\"attributes\":{\"source\":{\"id\":\"1251\"}},\"id\":\"1255\",\"type\":\"CDSView\"},{\"attributes\":{\"data_source\":{\"id\":\"1283\"},\"glyph\":{\"id\":\"1284\"},\"hover_glyph\":null,\"muted_glyph\":null,\"nonselection_glyph\":{\"id\":\"1285\"},\"selection_glyph\":null,\"view\":{\"id\":\"1287\"}},\"id\":\"1286\",\"type\":\"GlyphRenderer\"},{\"attributes\":{\"data\":{\"x\":[0,1,2,3,4,5,6,7,8,9,10,11,12,13,14,15,16,17,18,19,20,21,22,23,24,25,26,27,28,29,30,31,32,33,34,35,36,37,38,39,40,41,42,43,44,45,46,47,48,49,50,51,52,53,54,55,56,57,58,59,60,61,62,63,64,65,66,67,68,69,70,71,72,73,74,75,76,77,78,79,80,81,82,83,84,85,86,87,88,89,90,91,92,93,94,95,96,97,98,99,100,101,102,103,104,105,106,107,108,109,110,111,112,113,114,115,116,117,118,119,120,121,122,123,124,125,126,127,128,129,130,131,132,133,134,135,136,137,138,139,140,141,142,143,144,145,146,147,148,149,150,151,152,153,154,155,156,157,158,159,160,161,162,163,164,165,166,167,168,169,170,171,172,173,174,175,176,177,178,179,180,181,182,183,184,185,186,187,188,189,190,191,192,193,194,195,196,197,198,199,200,201,202,203,204,205,206,207,208,209,210,211,212,213,214,215,216,217,218,219,220,221,222,223,224,225,226,227,228,229,230,231,232,233,234,235,236,237,238,239,240,241,242,243,244,245,246,247,248,249,250,251,252,253,254,255,256,257,258,259,260,261,262,263,264,265,266,267,268,269,270,271,272,273,274,275,276,277,278,279,280,281,282,283,284,285,286,287,288,289,290,291,292,293,294,295,296,297,298,299,300,301,302,303,304,305,306,307,308,309,310,311,312,313,314,315,316,317,318,319,320,321,322,323,324,325,326,327,328,329,330,331,332,333,334,335,336,337,338,339,340,341,342,343,344,345,346,347,348,349,350,351,352,353,354,355,356,357,358,359,360,361,362,363,364,365,366,367,368,369,370,371,372,373,374,375,376,377,378,379,380,381,382,383,384,385,386,387,388,389,390,391,392,393,394,395,396,397,398,399],\"y\":{\"__ndarray__\":\"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\",\"dtype\":\"float64\",\"shape\":[400]}},\"selected\":{\"id\":\"1281\"},\"selection_policy\":{\"id\":\"1280\"}},\"id\":\"1251\",\"type\":\"ColumnDataSource\"},{\"attributes\":{},\"id\":\"1209\",\"type\":\"DataRange1d\"},{\"attributes\":{},\"id\":\"1223\",\"type\":\"PanTool\"},{\"attributes\":{\"items\":[{\"id\":\"1250\"},{\"id\":\"1265\"},{\"id\":\"1282\"},{\"id\":\"1301\"}],\"orientation\":\"horizontal\"},\"id\":\"1249\",\"type\":\"Legend\"},{\"attributes\":{\"overlay\":{\"id\":\"1229\"}},\"id\":\"1225\",\"type\":\"BoxZoomTool\"},{\"attributes\":{\"align\":\"center\",\"text\":\"beta: 0.01, gamma: 0.005, alpha: 0.05, fraction infected: 0.05, tp rate: 1\"},\"id\":\"1303\",\"type\":\"Title\"},{\"attributes\":{},\"id\":\"1224\",\"type\":\"WheelZoomTool\"},{\"attributes\":{},\"id\":\"1226\",\"type\":\"SaveTool\"},{\"attributes\":{},\"id\":\"1246\",\"type\":\"BasicTickFormatter\"},{\"attributes\":{},\"id\":\"1216\",\"type\":\"BasicTicker\"},{\"attributes\":{\"axis_label\":\"Iterations\",\"formatter\":{\"id\":\"1246\"},\"ticker\":{\"id\":\"1216\"}},\"id\":\"1215\",\"type\":\"LinearAxis\"},{\"attributes\":{\"label\":{\"value\":\"Exposed\"},\"renderers\":[{\"id\":\"1254\"}]},\"id\":\"1265\",\"type\":\"LegendItem\"},{\"attributes\":{\"label\":{\"value\":\"Infected\"},\"renderers\":[{\"id\":\"1269\"}]},\"id\":\"1282\",\"type\":\"LegendItem\"},{\"attributes\":{\"data\":{\"x\":[0,1,2,3,4,5,6,7,8,9,10,11,12,13,14,15,16,17,18,19,20,21,22,23,24,25,26,27,28,29,30,31,32,33,34,35,36,37,38,39,40,41,42,43,44,45,46,47,48,49,50,51,52,53,54,55,56,57,58,59,60,61,62,63,64,65,66,67,68,69,70,71,72,73,74,75,76,77,78,79,80,81,82,83,84,85,86,87,88,89,90,91,92,93,94,95,96,97,98,99,100,101,102,103,104,105,106,107,108,109,110,111,112,113,114,115,116,117,118,119,120,121,122,123,124,125,126,127,128,129,130,131,132,133,134,135,136,137,138,139,140,141,142,143,144,145,146,147,148,149,150,151,152,153,154,155,156,157,158,159,160,161,162,163,164,165,166,167,168,169,170,171,172,173,174,175,176,177,178,179,180,181,182,183,184,185,186,187,188,189,190,191,192,193,194,195,196,197,198,199,200,201,202,203,204,205,206,207,208,209,210,211,212,213,214,215,216,217,218,219,220,221,222,223,224,225,226,227,228,229,230,231,232,233,234,235,236,237,238,239,240,241,242,243,244,245,246,247,248,249,250,251,252,253,254,255,256,257,258,259,260,261,262,263,264,265,266,267,268,269,270,271,272,273,274,275,276,277,278,279,280,281,282,283,284,285,286,287,288,289,290,291,292,293,294,295,296,297,298,299,300,301,302,303,304,305,306,307,308,309,310,311,312,313,314,315,316,317,318,319,320,321,322,323,324,325,326,327,328,329,330,331,332,333,334,335,336,337,338,339,340,341,342,343,344,345,346,347,348,349,350,351,352,353,354,355,356,357,358,359,360,361,362,363,364,365,366,367,368,369,370,371,372,373,374,375,376,377,378,379,380,381,382,383,384,385,386,387,388,389,390,391,392,393,394,395,396,397,398,399],\"y\":{\"__ndarray__\":\"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\",\"dtype\":\"float64\",\"shape\":[400]}},\"selected\":{\"id\":\"1264\"},\"selection_policy\":{\"id\":\"1263\"}},\"id\":\"1237\",\"type\":\"ColumnDataSource\"},{\"attributes\":{\"data\":{\"x\":[0,1,2,3,4,5,6,7,8,9,10,11,12,13,14,15,16,17,18,19,20,21,22,23,24,25,26,27,28,29,30,31,32,33,34,35,36,37,38,39,40,41,42,43,44,45,46,47,48,49,50,51,52,53,54,55,56,57,58,59,60,61,62,63,64,65,66,67,68,69,70,71,72,73,74,75,76,77,78,79,80,81,82,83,84,85,86,87,88,89,90,91,92,93,94,95,96,97,98,99,100,101,102,103,104,105,106,107,108,109,110,111,112,113,114,115,116,117,118,119,120,121,122,123,124,125,126,127,128,129,130,131,132,133,134,135,136,137,138,139,140,141,142,143,144,145,146,147,148,149,150,151,152,153,154,155,156,157,158,159,160,161,162,163,164,165,166,167,168,169,170,171,172,173,174,175,176,177,178,179,180,181,182,183,184,185,186,187,188,189,190,191,192,193,194,195,196,197,198,199,200,201,202,203,204,205,206,207,208,209,210,211,212,213,214,215,216,217,218,219,220,221,222,223,224,225,226,227,228,229,230,231,232,233,234,235,236,237,238,239,240,241,242,243,244,245,246,247,248,249,250,251,252,253,254,255,256,257,258,259,260,261,262,263,264,265,266,267,268,269,270,271,272,273,274,275,276,277,278,279,280,281,282,283,284,285,286,287,288,289,290,291,292,293,294,295,296,297,298,299,300,301,302,303,304,305,306,307,308,309,310,311,312,313,314,315,316,317,318,319,320,321,322,323,324,325,326,327,328,329,330,331,332,333,334,335,336,337,338,339,340,341,342,343,344,345,346,347,348,349,350,351,352,353,354,355,356,357,358,359,360,361,362,363,364,365,366,367,368,369,370,371,372,373,374,375,376,377,378,379,380,381,382,383,384,385,386,387,388,389,390,391,392,393,394,395,396,397,398,399],\"y\":{\"__ndarray__\":\"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\",\"dtype\":\"float64\",\"shape\":[400]}},\"selected\":{\"id\":\"1333\"},\"selection_policy\":{\"id\":\"1332\"}},\"id\":\"1283\",\"type\":\"ColumnDataSource\"},{\"attributes\":{\"axis\":{\"id\":\"1215\"},\"grid_line_alpha\":0.5,\"ticker\":null},\"id\":\"1218\",\"type\":\"Grid\"},{\"attributes\":{\"data_source\":{\"id\":\"1266\"},\"glyph\":{\"id\":\"1267\"},\"hover_glyph\":null,\"muted_glyph\":null,\"nonselection_glyph\":{\"id\":\"1268\"},\"selection_glyph\":null,\"view\":{\"id\":\"1270\"}},\"id\":\"1269\",\"type\":\"GlyphRenderer\"},{\"attributes\":{\"data\":{\"x\":[0,1,2,3,4,5,6,7,8,9,10,11,12,13,14,15,16,17,18,19,20,21,22,23,24,25,26,27,28,29,30,31,32,33,34,35,36,37,38,39,40,41,42,43,44,45,46,47,48,49,50,51,52,53,54,55,56,57,58,59,60,61,62,63,64,65,66,67,68,69,70,71,72,73,74,75,76,77,78,79,80,81,82,83,84,85,86,87,88,89,90,91,92,93,94,95,96,97,98,99,100,101,102,103,104,105,106,107,108,109,110,111,112,113,114,115,116,117,118,119,120,121,122,123,124,125,126,127,128,129,130,131,132,133,134,135,136,137,138,139,140,141,142,143,144,145,146,147,148,149,150,151,152,153,154,155,156,157,158,159,160,161,162,163,164,165,166,167,168,169,170,171,172,173,174,175,176,177,178,179,180,181,182,183,184,185,186,187,188,189,190,191,192,193,194,195,196,197,198,199,200,201,202,203,204,205,206,207,208,209,210,211,212,213,214,215,216,217,218,219,220,221,222,223,224,225,226,227,228,229,230,231,232,233,234,235,236,237,238,239,240,241,242,243,244,245,246,247,248,249,250,251,252,253,254,255,256,257,258,259,260,261,262,263,264,265,266,267,268,269,270,271,272,273,274,275,276,277,278,279,280,281,282,283,284,285,286,287,288,289,290,291,292,293,294,295,296,297,298,299,300,301,302,303,304,305,306,307,308,309,310,311,312,313,314,315,316,317,318,319,320,321,322,323,324,325,326,327,328,329,330,331,332,333,334,335,336,337,338,339,340,341,342,343,344,345,346,347,348,349,350,351,352,353,354,355,356,357,358,359,360,361,362,363,364,365,366,367,368,369,370,371,372,373,374,375,376,377,378,379,380,381,382,383,384,385,386,387,388,389,390,391,392,393,394,395,396,397,398,399],\"y\":{\"__ndarray__\":\"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\",\"dtype\":\"float64\",\"shape\":[400]}},\"selected\":{\"id\":\"1300\"},\"selection_policy\":{\"id\":\"1299\"}},\"id\":\"1266\",\"type\":\"ColumnDataSource\"},{\"attributes\":{},\"id\":\"1263\",\"type\":\"UnionRenderers\"},{\"attributes\":{},\"id\":\"1211\",\"type\":\"LinearScale\"},{\"attributes\":{},\"id\":\"1264\",\"type\":\"Selection\"},{\"attributes\":{\"label\":{\"value\":\"Removed\"},\"renderers\":[{\"id\":\"1286\"}]},\"id\":\"1301\",\"type\":\"LegendItem\"},{\"attributes\":{},\"id\":\"1244\",\"type\":\"BasicTickFormatter\"},{\"attributes\":{},\"id\":\"1227\",\"type\":\"ResetTool\"},{\"attributes\":{},\"id\":\"1299\",\"type\":\"UnionRenderers\"}],\"root_ids\":[\"1206\"]},\"title\":\"Bokeh Application\",\"version\":\"2.0.1\"}};\n",
       "  var render_items = [{\"docid\":\"b7a243e1-4c22-4df3-b531-f0a01a18a08f\",\"root_ids\":[\"1206\"],\"roots\":{\"1206\":\"1ce55523-59ff-4f92-ac4e-768546478f0e\"}}];\n",
       "  root.Bokeh.embed.embed_items_notebook(docs_json, render_items);\n",
       "\n",
       "  }\n",
       "  if (root.Bokeh !== undefined) {\n",
       "    embed_document(root);\n",
       "  } else {\n",
       "    var attempts = 0;\n",
       "    var timer = setInterval(function(root) {\n",
       "      if (root.Bokeh !== undefined) {\n",
       "        clearInterval(timer);\n",
       "        embed_document(root);\n",
       "      } else {\n",
       "        attempts++;\n",
       "        if (attempts > 100) {\n",
       "          clearInterval(timer);\n",
       "          console.log(\"Bokeh: ERROR: Unable to run BokehJS code because BokehJS library is missing\");\n",
       "        }\n",
       "      }\n",
       "    }, 10, root)\n",
       "  }\n",
       "})(window);"
      ],
      "application/vnd.bokehjs_exec.v0+json": ""
     },
     "metadata": {
      "application/vnd.bokehjs_exec.v0+json": {
       "id": "1206"
      }
     },
     "output_type": "display_data"
    }
   ],
   "source": [
    "# Visualization prevalence\n",
    "viz = DiffusionPrevalence(model, trends)\n",
    "p = viz.plot(width=800, height=600)\n",
    "show(p)"
   ]
  },
  {
   "cell_type": "markdown",
   "metadata": {},
   "source": [
    "## A custom model"
   ]
  },
  {
   "cell_type": "code",
   "execution_count": 112,
   "metadata": {},
   "outputs": [],
   "source": [
    "import ndlib.models.CompositeModel as gc\n",
    "import ndlib.models.ModelConfig as mc\n",
    "import ndlib.models.compartments.NodeStochastic as NodeStochastic\n",
    "import ndlib.models.compartments.NodeCategoricalAttribute as NodeCategoricalAttribute\n",
    "import ndlib.models.compartments.NodeNumericalAttribute as NodeNumericalAttribute\n",
    "import ndlib.models.compartments.NodeThreshold as NodeThreshold\n",
    "import ndlib.models.compartments.CountDown as CountDown\n",
    "import ndlib.models.compartments.ConditionalComposition as ConditionalComposition"
   ]
  },
  {
   "cell_type": "code",
   "execution_count": 249,
   "metadata": {},
   "outputs": [],
   "source": [
    "# Disease parameters\n",
    "population_size = 1000\n",
    "t_steps = 60\n",
    "days_recovery_infected = 14\n",
    "days_recovery_critical = 21\n",
    "beds = 5.98 * population_size / 1000\n",
    "\n",
    "proba_exposed = 0.1\n",
    "# proba_asymptomic = 0.2\n",
    "proba_critical = 0.167\n",
    "proba_reinfection = 0.0025\n",
    "\n",
    "case_fatality_rate = 0.03\n",
    "basal_contagion_rate = 0.2"
   ]
  },
  {
   "cell_type": "code",
   "execution_count": 250,
   "metadata": {},
   "outputs": [],
   "source": [
    "def id_dynamic_rule(model, s_0, s_1, rule):\n",
    "    model.add_rule(s_0, s_1, rule)\n",
    "    return model.compartment_progressive - 1\n",
    "\n",
    "def change_rule(model, rule_id, new_rule):\n",
    "    s_0 = model.compartment[rule_id][0]\n",
    "    s_1 = model.compartment[rule_id][1]\n",
    "    model.compartment[rule_id] = (s_0, s_1, new_rule)\n",
    "    \n",
    "def update_on_beds(model, status, id_bedsrule):\n",
    "    \n",
    "    crit_id = model.get_status_map()[\"Critical\"]\n",
    "    current_critical = list(status.values()).count(crit_id)\n",
    "    \n",
    "    if current_critical >= beds:\n",
    "        new_rule = NodeStochastic(2 * case_fatality_rate)\n",
    "        change_rule(model, id_bedsrule, new_rule)\n",
    "    else:\n",
    "        new_rule = NodeStochastic(case_fatality_rate)\n",
    "        change_rule(model, id_bedsrule, new_rule)\n",
    "    "
   ]
  },
  {
   "cell_type": "code",
   "execution_count": 251,
   "metadata": {},
   "outputs": [],
   "source": [
    "# Starting network\n",
    "g = nx.erdos_renyi_graph(population_size, 0.15)\n",
    "\n",
    "true_event = NodeStochastic(1.0)\n",
    "\n",
    "# Setting node attribute\n",
    "attr = {n: {\n",
    "    \"Sex\": np.random.choice(['male', 'female']),\n",
    "    \"Age\": np.random.choice(range(0, 100)),\n",
    "    \"p_symptoms\": proba_asymptomic} for n in g.nodes()}\n",
    "nx.set_node_attributes(g, attr)\n",
    "\n",
    "# Composite Model instantiation\n",
    "model = gc.CompositeModel(g)\n",
    "\n",
    "# Model statuses\n",
    "model.add_status(\"Susceptible\")\n",
    "model.add_status(\"Exposed\")\n",
    "model.add_status(\"Infected\")\n",
    "model.add_status(\"Critical\")\n",
    "model.add_status(\"Recovered\")\n",
    "model.add_status(\"Dead\")\n",
    "\n",
    "# Contagion rules\n",
    "# - Proba of becoming critical\n",
    "model.add_rule(\"Infected\", \"Critical\", NodeStochastic(proba_critical))\n",
    "\n",
    "# - Recovery rules: time period or proba\n",
    "rec1 = CountDown(\"recovery\", iterations=days_recovery_infected)\n",
    "rec2 = CountDown(\"recovery_critical\", iterations=days_recovery_critical)\n",
    "\n",
    "base_recovery = ConditionalComposition(NodeStochastic(0.15), true_event, rec1)\n",
    "critical_recovery = ConditionalComposition(NodeStochastic(0.05), true_event, rec2)\n",
    "\n",
    "model.add_rule(\"Infected\", \"Recovered\", base_recovery)\n",
    "model.add_rule(\"Critical\", \"Recovered\", critical_recovery)\n",
    "\n",
    "# - Dead proba\n",
    "# model.add_rule(\"Infected\", \"Dead\", NodeStochastic(case_fatality_rate))\n",
    "\n",
    "crit_dead_id = id_dynamic_rule(model, \"Critical\", \"Dead\", NodeStochastic(case_fatality_rate))\n",
    "# - Basal contagion\n",
    "model.add_rule(\"Susceptible\", \"Exposed\", NodeStochastic(proba_exposed))\n",
    "model.add_rule(\"Exposed\", \"Susceptible\", NodeStochastic(1.1 * proba_exposed))\n",
    "model.add_rule(\"Exposed\", \"Infected\", NodeStochastic(basal_contagion_rate, triggering_status=\"Infected\"))\n",
    "model.add_rule(\"Exposed\", \"Infected\", NodeStochastic(basal_contagion_rate, triggering_status=\"Critical\"))\n",
    "\n",
    "model.add_rule(\"Recovered\", \"Exposed\", NodeStochastic(proba_reinfection))\n",
    "\n",
    "\n",
    "\n"
   ]
  },
  {
   "cell_type": "code",
   "execution_count": 252,
   "metadata": {},
   "outputs": [],
   "source": [
    "# Model initial status configuration\n",
    "config = mc.Configuration()\n",
    "config.add_model_parameter('fraction_infected', 0.05)\n",
    "\n",
    "# Set initial state\n",
    "model.set_initial_status(config)\n",
    "\n"
   ]
  },
  {
   "cell_type": "code",
   "execution_count": 253,
   "metadata": {},
   "outputs": [],
   "source": [
    "# Simulate updating on critical patients vs available beds:\n",
    "iterations = []\n",
    "for it in range(0, t_steps):\n",
    "    its = model.iteration(node_status=True)\n",
    "    status_t = its['status']\n",
    "    update_on_beds(model, status_t, crit_dead_id)\n",
    "    \n",
    "    iterations.append(its)"
   ]
  },
  {
   "cell_type": "code",
   "execution_count": 254,
   "metadata": {},
   "outputs": [],
   "source": [
    "# Build trends\n",
    "# iterations = model.iteration_bunch(t_steps)\n",
    "trends = model.build_trends(iterations)"
   ]
  },
  {
   "cell_type": "code",
   "execution_count": 255,
   "metadata": {},
   "outputs": [
    {
     "name": "stderr",
     "output_type": "stream",
     "text": [
      "BokehDeprecationWarning: 'legend' keyword is deprecated, use explicit 'legend_label', 'legend_field', or 'legend_group' keywords instead\n",
      "BokehDeprecationWarning: 'legend' keyword is deprecated, use explicit 'legend_label', 'legend_field', or 'legend_group' keywords instead\n",
      "BokehDeprecationWarning: 'legend' keyword is deprecated, use explicit 'legend_label', 'legend_field', or 'legend_group' keywords instead\n",
      "BokehDeprecationWarning: 'legend' keyword is deprecated, use explicit 'legend_label', 'legend_field', or 'legend_group' keywords instead\n",
      "BokehDeprecationWarning: 'legend' keyword is deprecated, use explicit 'legend_label', 'legend_field', or 'legend_group' keywords instead\n",
      "BokehDeprecationWarning: 'legend' keyword is deprecated, use explicit 'legend_label', 'legend_field', or 'legend_group' keywords instead\n"
     ]
    },
    {
     "data": {
      "text/html": [
       "\n",
       "\n",
       "\n",
       "\n",
       "\n",
       "\n",
       "  <div class=\"bk-root\" id=\"b86750be-94a2-4fe3-a603-821c797d505c\" data-root-id=\"35120\"></div>\n"
      ]
     },
     "metadata": {},
     "output_type": "display_data"
    },
    {
     "data": {
      "application/javascript": [
       "(function(root) {\n",
       "  function embed_document(root) {\n",
       "    \n",
       "  var docs_json = {\"dc8204e3-29a8-45cc-9ebe-93c68a725cff\":{\"roots\":{\"references\":[{\"attributes\":{\"below\":[{\"id\":\"35129\"},{\"id\":\"35261\"}],\"center\":[{\"id\":\"35132\"},{\"id\":\"35136\"},{\"id\":\"35163\"}],\"left\":[{\"id\":\"35133\"}],\"plot_width\":800,\"renderers\":[{\"id\":\"35154\"},{\"id\":\"35168\"},{\"id\":\"35183\"},{\"id\":\"35200\"},{\"id\":\"35219\"},{\"id\":\"35240\"}],\"title\":{\"id\":\"35156\"},\"toolbar\":{\"id\":\"35144\"},\"x_range\":{\"id\":\"35121\"},\"x_scale\":{\"id\":\"35125\"},\"y_range\":{\"id\":\"35123\"},\"y_scale\":{\"id\":\"35127\"}},\"id\":\"35120\",\"subtype\":\"Figure\",\"type\":\"Plot\"},{\"attributes\":{\"source\":{\"id\":\"35165\"}},\"id\":\"35169\",\"type\":\"CDSView\"},{\"attributes\":{},\"id\":\"35121\",\"type\":\"DataRange1d\"},{\"attributes\":{\"active_drag\":\"auto\",\"active_inspect\":\"auto\",\"active_multi\":null,\"active_scroll\":\"auto\",\"active_tap\":\"auto\",\"tools\":[{\"id\":\"35137\"},{\"id\":\"35138\"},{\"id\":\"35139\"},{\"id\":\"35140\"},{\"id\":\"35141\"},{\"id\":\"35142\"}]},\"id\":\"35144\",\"type\":\"Toolbar\"},{\"attributes\":{},\"id\":\"35123\",\"type\":\"DataRange1d\"},{\"attributes\":{\"source\":{\"id\":\"35151\"}},\"id\":\"35155\",\"type\":\"CDSView\"},{\"attributes\":{\"data\":{\"x\":[0,1,2,3,4,5,6,7,8,9,10,11,12,13,14,15,16,17,18,19,20,21,22,23,24,25,26,27,28,29,30,31,32,33,34,35,36,37,38,39,40,41,42,43,44,45,46,47,48,49,50,51,52,53,54,55,56,57,58,59],\"y\":{\"__ndarray__\":\"mpmZmZmZqT/8qfHSTWKgP9nO91Pjpas/WmQ730+Ntz956SYxCKy8P5huEoPAysE/N4lBYOXQwj+LbOf7qfHCPyuHFtnO98M/2/l+arx0wz8v3SQGgZXDP0jhehSuR8E/9P3UeOkmwT9g5dAi2/m+P1g5tMh2vr8/oBov3SQGwT+wcmiR7Xy/P3E9CtejcL0/2c73U+Oluz9SuB6F61G4P8uhRbbz/bQ/i2zn+6nxsj/TTWIQWDm0P4ts5/up8bI/7FG4HoXrsT/jpZvEILCyP0w3iUFg5bA/eekmMQisrD9aZDvfT42nP6rx0k1iEKg/qvHSTWIQqD8rhxbZzvejP8uhRbbz/aQ/i2zn+6nxoj/b+X5qvHSjP9v5fmq8dKM/uB6F61G4nj8ZBFYOLbKdP1g5tMh2vp8/nMQgsHJooT85tMh2vp+aP9nO91PjpZs/Gy/dJAaBlT97FK5H4XqUP3sUrkfhepQ/nMQgsHJokT/8qfHSTWKQP/p+arx0k4g/uB6F61G4jj/6fmq8dJOIP3sUrkfheoQ/ukkMAiuHhj85tMh2vp+KP/p+arx0k4g/eekmMQisjD+6SQwCK4eGP3npJjEIrIw/ukkMAiuHhj8730+Nl26CP3sUrkfheoQ/\",\"dtype\":\"float64\",\"shape\":[60]}},\"selected\":{\"id\":\"35214\"},\"selection_policy\":{\"id\":\"35213\"}},\"id\":\"35180\",\"type\":\"ColumnDataSource\"},{\"attributes\":{},\"id\":\"35234\",\"type\":\"UnionRenderers\"},{\"attributes\":{\"source\":{\"id\":\"35237\"}},\"id\":\"35241\",\"type\":\"CDSView\"},{\"attributes\":{},\"id\":\"35177\",\"type\":\"UnionRenderers\"},{\"attributes\":{\"source\":{\"id\":\"35216\"}},\"id\":\"35220\",\"type\":\"CDSView\"},{\"attributes\":{},\"id\":\"35257\",\"type\":\"UnionRenderers\"},{\"attributes\":{\"line_alpha\":0.1,\"line_color\":\"#ffbb78\",\"line_width\":2,\"x\":{\"field\":\"x\"},\"y\":{\"field\":\"y\"}},\"id\":\"35199\",\"type\":\"Line\"},{\"attributes\":{\"label\":{\"value\":\"Susceptible\"},\"renderers\":[{\"id\":\"35154\"}]},\"id\":\"35164\",\"type\":\"LegendItem\"},{\"attributes\":{},\"id\":\"35141\",\"type\":\"ResetTool\"},{\"attributes\":{\"label\":{\"value\":\"Exposed\"},\"renderers\":[{\"id\":\"35168\"}]},\"id\":\"35179\",\"type\":\"LegendItem\"},{\"attributes\":{},\"id\":\"35140\",\"type\":\"SaveTool\"},{\"attributes\":{\"source\":{\"id\":\"35197\"}},\"id\":\"35201\",\"type\":\"CDSView\"},{\"attributes\":{},\"id\":\"35130\",\"type\":\"BasicTicker\"},{\"attributes\":{},\"id\":\"35125\",\"type\":\"LinearScale\"},{\"attributes\":{\"label\":{\"value\":\"Critical\"},\"renderers\":[{\"id\":\"35200\"}]},\"id\":\"35215\",\"type\":\"LegendItem\"},{\"attributes\":{\"data\":{\"x\":[0,1,2,3,4,5,6,7,8,9,10,11,12,13,14,15,16,17,18,19,20,21,22,23,24,25,26,27,28,29,30,31,32,33,34,35,36,37,38,39,40,41,42,43,44,45,46,47,48,49,50,51,52,53,54,55,56,57,58,59],\"y\":{\"__ndarray__\":\"AAAAAAAAAAD8qfHSTWLAPx+F61G4HsU/YhBYObTIxj9aZDvfT43HPy/dJAaBlcM/j8L1KFyPwj8zMzMzMzPDP6RwPQrXo8A/uB6F61G4vj+iRbbz/dS4P/LSTWIQWLk/QmDl0CLbuT/pJjEIrBy6P/p+arx0k7g/qvHSTWIQuD/D9Shcj8K1P+xRuB6F67E/kxgEVg4tsj85tMh2vp+qP7gehetRuK4/WDm0yHa+rz8IrBxaZDuvP0oMAiuHFqk/iUFg5dAiqz+q8dJNYhCoP9v5fmq8dKM/7FG4HoXroT9MN4lBYOWgPzvfT42XbqI/nMQgsHJooT+4HoXrUbieP/p+arx0k5g/ObTIdr6fmj97FK5H4XqUPzm0yHa+n5o/mpmZmZmZmT956SYxCKycP9v5fmq8dJM/uB6F61G4jj+cxCCwcmiRP7gehetRuI4/O99PjZdukj956SYxCKyMP3npJjEIrHw/ukkMAiuHhj8730+Nl26CP3sUrkfheoQ/exSuR+F6hD956SYxCKx8P3sUrkfheoQ/ObTIdr6fij/6fmq8dJOIP/p+arx0k4g/exSuR+F6hD85tMh2vp+KP3npJjEIrHw/O99PjZdugj/6fmq8dJN4P3sUrkfhenQ/\",\"dtype\":\"float64\",\"shape\":[60]}},\"selected\":{\"id\":\"35195\"},\"selection_policy\":{\"id\":\"35194\"}},\"id\":\"35165\",\"type\":\"ColumnDataSource\"},{\"attributes\":{\"line_alpha\":0.5,\"line_color\":\"#ff7f0e\",\"line_width\":2,\"x\":{\"field\":\"x\"},\"y\":{\"field\":\"y\"}},\"id\":\"35181\",\"type\":\"Line\"},{\"attributes\":{\"axis_label\":\"Iterations\",\"formatter\":{\"id\":\"35160\"},\"ticker\":{\"id\":\"35130\"}},\"id\":\"35129\",\"type\":\"LinearAxis\"},{\"attributes\":{},\"id\":\"35142\",\"type\":\"HelpTool\"},{\"attributes\":{\"line_alpha\":0.5,\"line_color\":\"#1f77b4\",\"line_width\":2,\"x\":{\"field\":\"x\"},\"y\":{\"field\":\"y\"}},\"id\":\"35152\",\"type\":\"Line\"},{\"attributes\":{\"source\":{\"id\":\"35180\"}},\"id\":\"35184\",\"type\":\"CDSView\"},{\"attributes\":{\"items\":[{\"id\":\"35164\"},{\"id\":\"35179\"},{\"id\":\"35196\"},{\"id\":\"35215\"},{\"id\":\"35236\"},{\"id\":\"35259\"}],\"orientation\":\"horizontal\"},\"id\":\"35163\",\"type\":\"Legend\"},{\"attributes\":{\"data_source\":{\"id\":\"35216\"},\"glyph\":{\"id\":\"35217\"},\"hover_glyph\":null,\"muted_glyph\":null,\"nonselection_glyph\":{\"id\":\"35218\"},\"selection_glyph\":null,\"view\":{\"id\":\"35220\"}},\"id\":\"35219\",\"type\":\"GlyphRenderer\"},{\"attributes\":{\"data\":{\"x\":[0,1,2,3,4,5,6,7,8,9,10,11,12,13,14,15,16,17,18,19,20,21,22,23,24,25,26,27,28,29,30,31,32,33,34,35,36,37,38,39,40,41,42,43,44,45,46,47,48,49,50,51,52,53,54,55,56,57,58,59],\"y\":{\"__ndarray__\":\"AAAAAAAAAAB7FK5H4XqEP9v5fmq8dJM/GQRWDi2ynT/6fmq8dJOoP/yp8dJNYrA/exSuR+F6tD9KDAIrhxa5PxBYObTIdr4/7FG4HoXrwT97FK5H4XrEP/7UeOkmMcg/gZVDi2znyz8QWDm0yHbOP1K4HoXrUdA/nMQgsHJo0T+HFtnO91PTP8l2vp8aL9U/vHSTGARW1j+sHFpkO9/XP0w3iUFg5dg/6SYxCKwc2j81XrpJDALbPycxCKwcWtw/xSCwcmiR3T8Sg8DKoUXeP65H4XoUrt8/+n5qvHST4D/LoUW28/3gP5zEILByaOE/7nw/NV664T8UrkfhehTiP4/C9Shcj+I/CtejcD0K4z9cj8L1KFzjP65H4XoUruM//tR46SYx5D8nMQisHFrkP6RwPQrXo+Q/zczMzMzM5D9KDAIrhxblP8dLN4lBYOU/mpmZmZmZ5T+WQ4ts5/vlPz0K16NwPeY/ZmZmZmZm5j+PwvUoXI/mPzm0yHa+n+Y/Di2yne+n5j9iEFg5tMjmPzeJQWDl0OY/i2zn+6nx5j+LbOf7qfHmP99PjZduEuc/iUFg5dAi5z8zMzMzMzPnPwisHFpkO+c/MQisHFpk5z9aZDvfT43nP4XrUbgehec/\",\"dtype\":\"float64\",\"shape\":[60]}},\"selected\":{\"id\":\"35258\"},\"selection_policy\":{\"id\":\"35257\"}},\"id\":\"35216\",\"type\":\"ColumnDataSource\"},{\"attributes\":{\"text\":\" - Diffusion Trend\"},\"id\":\"35156\",\"type\":\"Title\"},{\"attributes\":{\"line_alpha\":0.1,\"line_color\":\"#ff7f0e\",\"line_width\":2,\"x\":{\"field\":\"x\"},\"y\":{\"field\":\"y\"}},\"id\":\"35182\",\"type\":\"Line\"},{\"attributes\":{},\"id\":\"35138\",\"type\":\"WheelZoomTool\"},{\"attributes\":{},\"id\":\"35235\",\"type\":\"Selection\"},{\"attributes\":{},\"id\":\"35195\",\"type\":\"Selection\"},{\"attributes\":{},\"id\":\"35158\",\"type\":\"BasicTickFormatter\"},{\"attributes\":{},\"id\":\"35134\",\"type\":\"BasicTicker\"},{\"attributes\":{},\"id\":\"35213\",\"type\":\"UnionRenderers\"},{\"attributes\":{},\"id\":\"35160\",\"type\":\"BasicTickFormatter\"},{\"attributes\":{},\"id\":\"35214\",\"type\":\"Selection\"},{\"attributes\":{\"axis\":{\"id\":\"35133\"},\"dimension\":1,\"grid_line_alpha\":0.5,\"ticker\":null},\"id\":\"35136\",\"type\":\"Grid\"},{\"attributes\":{\"data_source\":{\"id\":\"35237\"},\"glyph\":{\"id\":\"35238\"},\"hover_glyph\":null,\"muted_glyph\":null,\"nonselection_glyph\":{\"id\":\"35239\"},\"selection_glyph\":null,\"view\":{\"id\":\"35241\"}},\"id\":\"35240\",\"type\":\"GlyphRenderer\"},{\"attributes\":{\"data\":{\"x\":[0,1,2,3,4,5,6,7,8,9,10,11,12,13,14,15,16,17,18,19,20,21,22,23,24,25,26,27,28,29,30,31,32,33,34,35,36,37,38,39,40,41,42,43,44,45,46,47,48,49,50,51,52,53,54,55,56,57,58,59],\"y\":{\"__ndarray__\":\"ZmZmZmZm7j/n+6nx0k3qP1YOLbKd7+c/F9nO91Pj5T/VeOkmMQjkPzVeukkMAuM/RIts5/up4T+mm8QgsHLgP7TIdr6fGt8/Gy/dJAaB3T9/arx0kxjcPz0K16NwPdo/VOOlm8Qg2D8UrkfhehTWPycxCKwcWtQ/6SYxCKwc0j9KDAIrhxbRP6jGSzeJQdA/xSCwcmiRzT9t5/up8dLNP42XbhKDwMo/SgwCK4cWyT9iEFg5tMjGP76fGi/dJMY/30+Nl24Swz+YbhKDwMrBP6AaL90kBsE/qMZLN4lBwD8IrBxaZDu/P3npJjEIrLw/6SYxCKwcuj+amZmZmZm5PwrXo3A9Crc/w/UoXI/CtT97FK5H4Xq0P+xRuB6F67E/TDeJQWDlsD9oke18PzWuP8l2vp8aL60/ObTIdr6fqj+q8dJNYhCoP8uhRbbz/aQ/i2zn+6nxoj+cxCCwcmihP5zEILByaKE/eekmMQisnD8ZBFYOLbKdP9nO91PjpZs/ObTIdr6fmj/ZzvdT46WbP5qZmZmZmZk/exSuR+F6lD97FK5H4XqUPzvfT42XbpI/uB6F61G4jj+6SQwCK4eGPzm0yHa+n4o/exSuR+F6hD+6SQwCK4eGP3sUrkfheoQ/\",\"dtype\":\"float64\",\"shape\":[60]}},\"selected\":{\"id\":\"35178\"},\"selection_policy\":{\"id\":\"35177\"}},\"id\":\"35151\",\"type\":\"ColumnDataSource\"},{\"attributes\":{\"line_alpha\":0.5,\"line_color\":\"#ffbb78\",\"line_width\":2,\"x\":{\"field\":\"x\"},\"y\":{\"field\":\"y\"}},\"id\":\"35198\",\"type\":\"Line\"},{\"attributes\":{},\"id\":\"36184\",\"type\":\"Selection\"},{\"attributes\":{\"line_alpha\":0.1,\"line_color\":\"#aec7e8\",\"line_width\":2,\"x\":{\"field\":\"x\"},\"y\":{\"field\":\"y\"}},\"id\":\"35167\",\"type\":\"Line\"},{\"attributes\":{\"axis\":{\"id\":\"35129\"},\"grid_line_alpha\":0.5,\"ticker\":null},\"id\":\"35132\",\"type\":\"Grid\"},{\"attributes\":{\"line_alpha\":0.1,\"line_color\":\"#98df8a\",\"line_width\":2,\"x\":{\"field\":\"x\"},\"y\":{\"field\":\"y\"}},\"id\":\"35239\",\"type\":\"Line\"},{\"attributes\":{\"data_source\":{\"id\":\"35165\"},\"glyph\":{\"id\":\"35166\"},\"hover_glyph\":null,\"muted_glyph\":null,\"nonselection_glyph\":{\"id\":\"35167\"},\"selection_glyph\":null,\"view\":{\"id\":\"35169\"}},\"id\":\"35168\",\"type\":\"GlyphRenderer\"},{\"attributes\":{\"label\":{\"value\":\"Dead\"},\"renderers\":[{\"id\":\"35240\"}]},\"id\":\"35259\",\"type\":\"LegendItem\"},{\"attributes\":{\"overlay\":{\"id\":\"35143\"}},\"id\":\"35139\",\"type\":\"BoxZoomTool\"},{\"attributes\":{\"line_alpha\":0.1,\"line_color\":\"#2ca02c\",\"line_width\":2,\"x\":{\"field\":\"x\"},\"y\":{\"field\":\"y\"}},\"id\":\"35218\",\"type\":\"Line\"},{\"attributes\":{\"data\":{\"x\":[0,1,2,3,4,5,6,7,8,9,10,11,12,13,14,15,16,17,18,19,20,21,22,23,24,25,26,27,28,29,30,31,32,33,34,35,36,37,38,39,40,41,42,43,44,45,46,47,48,49,50,51,52,53,54,55,56,57,58,59],\"y\":{\"__ndarray__\":\"AAAAAAAAAAD8qfHSTWKAP3npJjEIrIw/uB6F61G4jj956SYxCKycP/p+arx0k6g/46WbxCCwsj8j2/l+ary0P6rx0k1iELg/KVyPwvUovD/4U+Olm8TAP+f7qfHSTcI/oBov3SQGwT8zMzMzMzPDP39qvHSTGMQ/exSuR+F6xD8rhxbZzvfDPy/dJAaBlcM/g8DKoUW2wz+HFtnO91PDP4PAyqFFtsM/PzVeukkMwj9Ei2zn+6nBP6AaL90kBsE/9P3UeOkmwT+kcD0K16PAPwAAAAAAAMA/aJHtfD81vj8ZBFYOLbK9P4lBYOXQIrs/QmDl0CLbuT/pJjEIrBy6P6JFtvP91Lg/y6FFtvP9tD/TTWIQWDm0P+Olm8QgsLI/nMQgsHJosT+kcD0K16OwP1TjpZvEILA/VOOlm8QgsD/8qfHSTWKwP1g5tMh2vq8/CKwcWmQ7rz/ZzvdT46WrP+kmMQisHKo/mpmZmZmZqT8K16NwPQqnP/p+arx0k6g/ukkMAiuHpj8K16NwPQqnP7pJDAIrh6Y/y6FFtvP9pD8rhxbZzvejPzvfT42XbqI/O99PjZduoj+LbOf7qfGiP+xRuB6F66E/uB6F61G4nj8ZBFYOLbKdP7gehetRuJ4/\",\"dtype\":\"float64\",\"shape\":[60]}},\"selected\":{\"id\":\"35235\"},\"selection_policy\":{\"id\":\"35234\"}},\"id\":\"35197\",\"type\":\"ColumnDataSource\"},{\"attributes\":{\"line_alpha\":0.5,\"line_color\":\"#2ca02c\",\"line_width\":2,\"x\":{\"field\":\"x\"},\"y\":{\"field\":\"y\"}},\"id\":\"35217\",\"type\":\"Line\"},{\"attributes\":{\"data\":{\"x\":[0,1,2,3,4,5,6,7,8,9,10,11,12,13,14,15,16,17,18,19,20,21,22,23,24,25,26,27,28,29,30,31,32,33,34,35,36,37,38,39,40,41,42,43,44,45,46,47,48,49,50,51,52,53,54,55,56,57,58,59],\"y\":{\"__ndarray__\":\"AAAAAAAAAAAAAAAAAAAAAAAAAAAAAAAA/Knx0k1iYD/8qfHSTWJgP/yp8dJNYmA/+n5qvHSTaD8730+Nl26CP7gehetRuI4/nMQgsHJokT97FK5H4XqUP/p+arx0k5g/i2zn+6nxoj+6SQwCK4emP5qZmZmZmak/GQRWDi2yrT/0/dR46SaxP4PAyqFFtrM/EoPAyqFFtj/6fmq8dJO4P4lBYOXQIrs/EFg5tMh2vj8IrBxaZDu/P/yp8dJNYsA/TDeJQWDlwD9Ei2zn+6nBP+f7qfHSTcI/46WbxCCwwj/b+X5qvHTDP9ejcD0K18M/I9v5fmq8xD/LoUW28/3EPxsv3SQGgcU/ZmZmZmZmxj9iEFg5tMjGP2IQWDm0yMY/CtejcD0Kxz8GgZVDi2zHP65H4XoUrsc/AiuHFtnOxz9WDi2yne/HP1YOLbKd78c/qvHSTWIQyD+mm8QgsHLIP05iEFg5tMg/okW28/3UyD9KDAIrhxbJP0oMAiuHFsk/nu+nxks3yT+e76fGSzfJP/LSTWIQWMk/8tJNYhBYyT9GtvP91HjJP+58PzVeusk/QmDl0CLbyT+WQ4ts5/vJPz0K16NwPco/jZduEoPAyj+Nl24Sg8DKP+F6FK5H4co/\",\"dtype\":\"float64\",\"shape\":[60]}},\"selected\":{\"id\":\"36184\"},\"selection_policy\":{\"id\":\"36183\"}},\"id\":\"35237\",\"type\":\"ColumnDataSource\"},{\"attributes\":{\"bottom_units\":\"screen\",\"fill_alpha\":0.5,\"fill_color\":\"lightgrey\",\"left_units\":\"screen\",\"level\":\"overlay\",\"line_alpha\":1.0,\"line_color\":\"black\",\"line_dash\":[4,4],\"line_width\":2,\"render_mode\":\"css\",\"right_units\":\"screen\",\"top_units\":\"screen\"},\"id\":\"35143\",\"type\":\"BoxAnnotation\"},{\"attributes\":{\"line_alpha\":0.1,\"line_color\":\"#1f77b4\",\"line_width\":2,\"x\":{\"field\":\"x\"},\"y\":{\"field\":\"y\"}},\"id\":\"35153\",\"type\":\"Line\"},{\"attributes\":{\"line_alpha\":0.5,\"line_color\":\"#aec7e8\",\"line_width\":2,\"x\":{\"field\":\"x\"},\"y\":{\"field\":\"y\"}},\"id\":\"35166\",\"type\":\"Line\"},{\"attributes\":{},\"id\":\"35178\",\"type\":\"Selection\"},{\"attributes\":{},\"id\":\"35194\",\"type\":\"UnionRenderers\"},{\"attributes\":{\"data_source\":{\"id\":\"35197\"},\"glyph\":{\"id\":\"35198\"},\"hover_glyph\":null,\"muted_glyph\":null,\"nonselection_glyph\":{\"id\":\"35199\"},\"selection_glyph\":null,\"view\":{\"id\":\"35201\"}},\"id\":\"35200\",\"type\":\"GlyphRenderer\"},{\"attributes\":{},\"id\":\"35258\",\"type\":\"Selection\"},{\"attributes\":{},\"id\":\"36183\",\"type\":\"UnionRenderers\"},{\"attributes\":{\"label\":{\"value\":\"Recovered\"},\"renderers\":[{\"id\":\"35219\"}]},\"id\":\"35236\",\"type\":\"LegendItem\"},{\"attributes\":{\"axis_label\":\"#Nodes\",\"formatter\":{\"id\":\"35158\"},\"ticker\":{\"id\":\"35134\"}},\"id\":\"35133\",\"type\":\"LinearAxis\"},{\"attributes\":{\"align\":\"center\",\"text\":\"fraction infected: 0.05\"},\"id\":\"35261\",\"type\":\"Title\"},{\"attributes\":{\"label\":{\"value\":\"Infected\"},\"renderers\":[{\"id\":\"35183\"}]},\"id\":\"35196\",\"type\":\"LegendItem\"},{\"attributes\":{},\"id\":\"35137\",\"type\":\"PanTool\"},{\"attributes\":{},\"id\":\"35127\",\"type\":\"LinearScale\"},{\"attributes\":{\"data_source\":{\"id\":\"35180\"},\"glyph\":{\"id\":\"35181\"},\"hover_glyph\":null,\"muted_glyph\":null,\"nonselection_glyph\":{\"id\":\"35182\"},\"selection_glyph\":null,\"view\":{\"id\":\"35184\"}},\"id\":\"35183\",\"type\":\"GlyphRenderer\"},{\"attributes\":{\"data_source\":{\"id\":\"35151\"},\"glyph\":{\"id\":\"35152\"},\"hover_glyph\":null,\"muted_glyph\":null,\"nonselection_glyph\":{\"id\":\"35153\"},\"selection_glyph\":null,\"view\":{\"id\":\"35155\"}},\"id\":\"35154\",\"type\":\"GlyphRenderer\"},{\"attributes\":{\"line_alpha\":0.5,\"line_color\":\"#98df8a\",\"line_width\":2,\"x\":{\"field\":\"x\"},\"y\":{\"field\":\"y\"}},\"id\":\"35238\",\"type\":\"Line\"}],\"root_ids\":[\"35120\"]},\"title\":\"Bokeh Application\",\"version\":\"2.0.1\"}};\n",
       "  var render_items = [{\"docid\":\"dc8204e3-29a8-45cc-9ebe-93c68a725cff\",\"root_ids\":[\"35120\"],\"roots\":{\"35120\":\"b86750be-94a2-4fe3-a603-821c797d505c\"}}];\n",
       "  root.Bokeh.embed.embed_items_notebook(docs_json, render_items);\n",
       "\n",
       "  }\n",
       "  if (root.Bokeh !== undefined) {\n",
       "    embed_document(root);\n",
       "  } else {\n",
       "    var attempts = 0;\n",
       "    var timer = setInterval(function(root) {\n",
       "      if (root.Bokeh !== undefined) {\n",
       "        clearInterval(timer);\n",
       "        embed_document(root);\n",
       "      } else {\n",
       "        attempts++;\n",
       "        if (attempts > 100) {\n",
       "          clearInterval(timer);\n",
       "          console.log(\"Bokeh: ERROR: Unable to run BokehJS code because BokehJS library is missing\");\n",
       "        }\n",
       "      }\n",
       "    }, 10, root)\n",
       "  }\n",
       "})(window);"
      ],
      "application/vnd.bokehjs_exec.v0+json": ""
     },
     "metadata": {
      "application/vnd.bokehjs_exec.v0+json": {
       "id": "35120"
      }
     },
     "output_type": "display_data"
    }
   ],
   "source": [
    "# Visualization\n",
    "viz = DiffusionTrend(model, trends)\n",
    "p = viz.plot(width=800, height=600)\n",
    "show(p)"
   ]
  },
  {
   "cell_type": "code",
   "execution_count": 256,
   "metadata": {},
   "outputs": [
    {
     "name": "stderr",
     "output_type": "stream",
     "text": [
      "BokehDeprecationWarning: 'legend' keyword is deprecated, use explicit 'legend_label', 'legend_field', or 'legend_group' keywords instead\n",
      "BokehDeprecationWarning: 'legend' keyword is deprecated, use explicit 'legend_label', 'legend_field', or 'legend_group' keywords instead\n",
      "BokehDeprecationWarning: 'legend' keyword is deprecated, use explicit 'legend_label', 'legend_field', or 'legend_group' keywords instead\n",
      "BokehDeprecationWarning: 'legend' keyword is deprecated, use explicit 'legend_label', 'legend_field', or 'legend_group' keywords instead\n",
      "BokehDeprecationWarning: 'legend' keyword is deprecated, use explicit 'legend_label', 'legend_field', or 'legend_group' keywords instead\n",
      "BokehDeprecationWarning: 'legend' keyword is deprecated, use explicit 'legend_label', 'legend_field', or 'legend_group' keywords instead\n"
     ]
    },
    {
     "data": {
      "text/html": [
       "\n",
       "\n",
       "\n",
       "\n",
       "\n",
       "\n",
       "  <div class=\"bk-root\" id=\"1b8851aa-632f-43fc-9e3f-bd41ba98a70c\" data-root-id=\"36299\"></div>\n"
      ]
     },
     "metadata": {},
     "output_type": "display_data"
    },
    {
     "data": {
      "application/javascript": [
       "(function(root) {\n",
       "  function embed_document(root) {\n",
       "    \n",
       "  var docs_json = {\"3a5eacbd-3ee2-4c94-9fb5-b9e499c899b3\":{\"roots\":{\"references\":[{\"attributes\":{\"below\":[{\"id\":\"36308\"},{\"id\":\"36440\"}],\"center\":[{\"id\":\"36311\"},{\"id\":\"36315\"},{\"id\":\"36342\"}],\"left\":[{\"id\":\"36312\"}],\"plot_width\":800,\"renderers\":[{\"id\":\"36333\"},{\"id\":\"36347\"},{\"id\":\"36362\"},{\"id\":\"36379\"},{\"id\":\"36398\"},{\"id\":\"36419\"}],\"title\":{\"id\":\"36335\"},\"toolbar\":{\"id\":\"36323\"},\"x_range\":{\"id\":\"36300\"},\"x_scale\":{\"id\":\"36304\"},\"y_range\":{\"id\":\"36302\"},\"y_scale\":{\"id\":\"36306\"}},\"id\":\"36299\",\"subtype\":\"Figure\",\"type\":\"Plot\"},{\"attributes\":{\"source\":{\"id\":\"36330\"}},\"id\":\"36334\",\"type\":\"CDSView\"},{\"attributes\":{\"line_alpha\":0.5,\"line_color\":\"#2ca02c\",\"line_width\":2,\"x\":{\"field\":\"x\"},\"y\":{\"field\":\"y\"}},\"id\":\"36396\",\"type\":\"Line\"},{\"attributes\":{\"data_source\":{\"id\":\"36416\"},\"glyph\":{\"id\":\"36417\"},\"hover_glyph\":null,\"muted_glyph\":null,\"nonselection_glyph\":{\"id\":\"36418\"},\"selection_glyph\":null,\"view\":{\"id\":\"36420\"}},\"id\":\"36419\",\"type\":\"GlyphRenderer\"},{\"attributes\":{\"line_alpha\":0.1,\"line_color\":\"#ff7f0e\",\"line_width\":2,\"x\":{\"field\":\"x\"},\"y\":{\"field\":\"y\"}},\"id\":\"36361\",\"type\":\"Line\"},{\"attributes\":{\"active_drag\":\"auto\",\"active_inspect\":\"auto\",\"active_multi\":null,\"active_scroll\":\"auto\",\"active_tap\":\"auto\",\"tools\":[{\"id\":\"36316\"},{\"id\":\"36317\"},{\"id\":\"36318\"},{\"id\":\"36319\"},{\"id\":\"36320\"},{\"id\":\"36321\"}]},\"id\":\"36323\",\"type\":\"Toolbar\"},{\"attributes\":{},\"id\":\"36313\",\"type\":\"BasicTicker\"},{\"attributes\":{\"data_source\":{\"id\":\"36344\"},\"glyph\":{\"id\":\"36345\"},\"hover_glyph\":null,\"muted_glyph\":null,\"nonselection_glyph\":{\"id\":\"36346\"},\"selection_glyph\":null,\"view\":{\"id\":\"36348\"}},\"id\":\"36347\",\"type\":\"GlyphRenderer\"},{\"attributes\":{},\"id\":\"36437\",\"type\":\"Selection\"},{\"attributes\":{\"data\":{\"x\":[0,1,2,3,4,5,6,7,8,9,10,11,12,13,14,15,16,17,18,19,20,21,22,23,24,25,26,27,28,29,30,31,32,33,34,35,36,37,38,39,40,41,42,43,44,45,46,47,48,49,50,51,52,53,54,55,56,57,58,59],\"y\":{\"__ndarray__\":\"AAAAAAAAAAAAAAAAAAAkQAAAAAAAACJAAAAAAAAAJEAAAAAAAAAzQAAAAAAAADBAAAAAAAAAMEAAAAAAAAAyQAAAAAAAADVAAAAAAAAANUAAAAAAAAA0QAAAAAAAAD1AAAAAAAAAPUAAAAAAAAA0QAAAAAAAADFAAAAAAAAAMUAAAAAAAAA+QAAAAAAAAD1AAAAAAAAAMkAAAAAAAAA4QAAAAAAAADBAAAAAAAAAM0AAAAAAAAAsQAAAAAAAADVAAAAAAAAAM0AAAAAAAAAmQAAAAAAAADZAAAAAAAAAN0AAAAAAAAAqQAAAAAAAACpAAAAAAAAAJEAAAAAAAAAmQAAAAAAAAC5AAAAAAAAALkAAAAAAAAAkQAAAAAAAACRAAAAAAAAAMEAAAAAAAAAUQAAAAAAAACJAAAAAAAAAFEAAAAAAAAAiQAAAAAAAACJAAAAAAAAAHEAAAAAAAAAoQAAAAAAAACBAAAAAAAAAFEAAAAAAAAAUQAAAAAAAAABAAAAAAAAA8D8AAAAAAAAQQAAAAAAAAPA/AAAAAAAAEEAAAAAAAAAAAAAAAAAAABBAAAAAAAAAAEAAAAAAAAAAQAAAAAAAAPA/AAAAAAAAFEAAAAAAAAAUQAAAAAAAAPC/\",\"dtype\":\"float64\",\"shape\":[60]}},\"selected\":{\"id\":\"36437\"},\"selection_policy\":{\"id\":\"36436\"}},\"id\":\"36395\",\"type\":\"ColumnDataSource\"},{\"attributes\":{\"data_source\":{\"id\":\"36376\"},\"glyph\":{\"id\":\"36377\"},\"hover_glyph\":null,\"muted_glyph\":null,\"nonselection_glyph\":{\"id\":\"36378\"},\"selection_glyph\":null,\"view\":{\"id\":\"36380\"}},\"id\":\"36379\",\"type\":\"GlyphRenderer\"},{\"attributes\":{\"data\":{\"x\":[0,1,2,3,4,5,6,7,8,9,10,11,12,13,14,15,16,17,18,19,20,21,22,23,24,25,26,27,28,29,30,31,32,33,34,35,36,37,38,39,40,41,42,43,44,45,46,47,48,49,50,51,52,53,54,55,56,57,58,59],\"y\":{\"__ndarray__\":\"AAAAAAAAAAAAAAAAAABgQAAAAAAAgEJAAAAAAAAAKkAAAAAAAAAYQAAAAAAAAD/AAAAAAAAAIMAAAAAAAAAUQAAAAAAAADTAAAAAAAAAJMAAAAAAAAA3wAAAAAAAAABAAAAAAAAAAEAAAAAAAADwPwAAAAAAABjAAAAAAAAAAMAAAAAAAAAiwAAAAAAAAC7AAAAAAAAA8D8AAAAAAAAzwAAAAAAAACBAAAAAAAAAAEAAAAAAAADwvwAAAAAAACjAAAAAAAAAEEAAAAAAAAAYwAAAAAAAACLAAAAAAAAACMAAAAAAAAAAwAAAAAAAAAhAAAAAAAAAAMAAAAAAAAAQwAAAAAAAABjAAAAAAAAAAEAAAAAAAAAYwAAAAAAAABhAAAAAAAAA8L8AAAAAAAAIQAAAAAAAACLAAAAAAAAAEMAAAAAAAAAAQAAAAAAAAADAAAAAAAAACEAAAAAAAAAQwAAAAAAAABzAAAAAAAAAEEAAAAAAAAAAwAAAAAAAAPA/AAAAAAAAAAAAAAAAAAAIwAAAAAAAAAhAAAAAAAAACEAAAAAAAADwvwAAAAAAAAAAAAAAAAAAAMAAAAAAAAAIQAAAAAAAABjAAAAAAAAAAEAAAAAAAAAIwAAAAAAAAPC/\",\"dtype\":\"float64\",\"shape\":[60]}},\"selected\":{\"id\":\"36374\"},\"selection_policy\":{\"id\":\"36373\"}},\"id\":\"36344\",\"type\":\"ColumnDataSource\"},{\"attributes\":{\"source\":{\"id\":\"36416\"}},\"id\":\"36420\",\"type\":\"CDSView\"},{\"attributes\":{},\"id\":\"36309\",\"type\":\"BasicTicker\"},{\"attributes\":{\"label\":{\"value\":\"Dead\"},\"renderers\":[{\"id\":\"36419\"}]},\"id\":\"36438\",\"type\":\"LegendItem\"},{\"attributes\":{\"line_alpha\":0.5,\"line_color\":\"#ffbb78\",\"line_width\":2,\"x\":{\"field\":\"x\"},\"y\":{\"field\":\"y\"}},\"id\":\"36377\",\"type\":\"Line\"},{\"attributes\":{\"axis\":{\"id\":\"36308\"},\"grid_line_alpha\":0.5,\"ticker\":null},\"id\":\"36311\",\"type\":\"Grid\"},{\"attributes\":{\"source\":{\"id\":\"36344\"}},\"id\":\"36348\",\"type\":\"CDSView\"},{\"attributes\":{\"line_alpha\":0.5,\"line_color\":\"#98df8a\",\"line_width\":2,\"x\":{\"field\":\"x\"},\"y\":{\"field\":\"y\"}},\"id\":\"36417\",\"type\":\"Line\"},{\"attributes\":{},\"id\":\"36436\",\"type\":\"UnionRenderers\"},{\"attributes\":{\"data_source\":{\"id\":\"36359\"},\"glyph\":{\"id\":\"36360\"},\"hover_glyph\":null,\"muted_glyph\":null,\"nonselection_glyph\":{\"id\":\"36361\"},\"selection_glyph\":null,\"view\":{\"id\":\"36363\"}},\"id\":\"36362\",\"type\":\"GlyphRenderer\"},{\"attributes\":{},\"id\":\"36414\",\"type\":\"Selection\"},{\"attributes\":{\"label\":{\"value\":\"Exposed\"},\"renderers\":[{\"id\":\"36347\"}]},\"id\":\"36358\",\"type\":\"LegendItem\"},{\"attributes\":{\"label\":{\"value\":\"Critical\"},\"renderers\":[{\"id\":\"36379\"}]},\"id\":\"36394\",\"type\":\"LegendItem\"},{\"attributes\":{\"data\":{\"x\":[0,1,2,3,4,5,6,7,8,9,10,11,12,13,14,15,16,17,18,19,20,21,22,23,24,25,26,27,28,29,30,31,32,33,34,35,36,37,38,39,40,41,42,43,44,45,46,47,48,49,50,51,52,53,54,55,56,57,58,59],\"y\":{\"__ndarray__\":\"AAAAAAAAAAAAAAAAAABgwAAAAAAAgFLAAAAAAAAAUMAAAAAAAABNwAAAAAAAAEDAAAAAAAAARcAAAAAAAABDwAAAAAAAADzAAAAAAAAAOcAAAAAAAAA2wAAAAAAAAD3AAAAAAACAQMAAAAAAAABAwAAAAAAAADvAAAAAAACAQcAAAAAAAAAwwAAAAAAAACrAAAAAAAAAN8AAAAAAAAAAQAAAAAAAADjAAAAAAAAAKsAAAAAAAAAywAAAAAAAABTAAAAAAAAAOMAAAAAAAAAkwAAAAAAAABjAAAAAAAAAGMAAAAAAAAAUwAAAAAAAACTAAAAAAAAAJMAAAAAAAAAAwAAAAAAAACTAAAAAAAAAFMAAAAAAAAAUwAAAAAAAACTAAAAAAAAAEMAAAAAAAAAcwAAAAAAAAADAAAAAAAAAFMAAAAAAAAAUwAAAAAAAABjAAAAAAAAAEMAAAAAAAAAIwAAAAAAAAAAAAAAAAAAAGMAAAAAAAADwPwAAAAAAAADAAAAAAAAA8L8AAAAAAADwPwAAAAAAAADAAAAAAAAAFMAAAAAAAAAAAAAAAAAAAADAAAAAAAAACMAAAAAAAAAQwAAAAAAAAABAAAAAAAAACMAAAAAAAADwPwAAAAAAAPC/\",\"dtype\":\"float64\",\"shape\":[60]}},\"selected\":{\"id\":\"36357\"},\"selection_policy\":{\"id\":\"36356\"}},\"id\":\"36330\",\"type\":\"ColumnDataSource\"},{\"attributes\":{},\"id\":\"36356\",\"type\":\"UnionRenderers\"},{\"attributes\":{\"data\":{\"x\":[0,1,2,3,4,5,6,7,8,9,10,11,12,13,14,15,16,17,18,19,20,21,22,23,24,25,26,27,28,29,30,31,32,33,34,35,36,37,38,39,40,41,42,43,44,45,46,47,48,49,50,51,52,53,54,55,56,57,58,59],\"y\":{\"__ndarray__\":\"AAAAAAAAAAAAAAAAAAAywAAAAAAAADZAAAAAAAAAQ0AAAAAAAAA0QAAAAAAAADtAAAAAAAAAIEAAAAAAAADwPwAAAAAAACBAAAAAAAAAEMAAAAAAAADwPwAAAAAAADLAAAAAAAAA8L8AAAAAAAAqwAAAAAAAAAhAAAAAAAAAIkAAAAAAAAAkwAAAAAAAACDAAAAAAAAAHMAAAAAAAAAqwAAAAAAAACrAAAAAAAAAIMAAAAAAAAAUQAAAAAAAABTAAAAAAAAAEMAAAAAAAAAIQAAAAAAAABzAAAAAAAAAJMAAAAAAAAAkwAAAAAAAAPA/AAAAAAAAAAAAAAAAAAAgwAAAAAAAAABAAAAAAAAAEMAAAAAAAADwPwAAAAAAAAAAAAAAAAAAIMAAAAAAAADwvwAAAAAAAABAAAAAAAAACEAAAAAAAAAgwAAAAAAAAPA/AAAAAAAAGMAAAAAAAADwvwAAAAAAAAAAAAAAAAAACMAAAAAAAADwvwAAAAAAABDAAAAAAAAACEAAAAAAAAAIwAAAAAAAAADAAAAAAAAA8D8AAAAAAAAAQAAAAAAAAPC/AAAAAAAAAEAAAAAAAAAIwAAAAAAAAAhAAAAAAAAACMAAAAAAAAAAwAAAAAAAAPA/\",\"dtype\":\"float64\",\"shape\":[60]}},\"selected\":{\"id\":\"36393\"},\"selection_policy\":{\"id\":\"36392\"}},\"id\":\"36359\",\"type\":\"ColumnDataSource\"},{\"attributes\":{},\"id\":\"36373\",\"type\":\"UnionRenderers\"},{\"attributes\":{},\"id\":\"36374\",\"type\":\"Selection\"},{\"attributes\":{\"line_alpha\":0.1,\"line_color\":\"#1f77b4\",\"line_width\":2,\"x\":{\"field\":\"x\"},\"y\":{\"field\":\"y\"}},\"id\":\"36332\",\"type\":\"Line\"},{\"attributes\":{\"label\":{\"value\":\"Infected\"},\"renderers\":[{\"id\":\"36362\"}]},\"id\":\"36375\",\"type\":\"LegendItem\"},{\"attributes\":{},\"id\":\"36392\",\"type\":\"UnionRenderers\"},{\"attributes\":{\"text\":\" - Prevalence\"},\"id\":\"36335\",\"type\":\"Title\"},{\"attributes\":{\"align\":\"center\",\"text\":\"fraction infected: 0.05\"},\"id\":\"36440\",\"type\":\"Title\"},{\"attributes\":{},\"id\":\"36306\",\"type\":\"LinearScale\"},{\"attributes\":{},\"id\":\"37382\",\"type\":\"Selection\"},{\"attributes\":{},\"id\":\"36304\",\"type\":\"LinearScale\"},{\"attributes\":{},\"id\":\"37381\",\"type\":\"UnionRenderers\"},{\"attributes\":{\"data_source\":{\"id\":\"36395\"},\"glyph\":{\"id\":\"36396\"},\"hover_glyph\":null,\"muted_glyph\":null,\"nonselection_glyph\":{\"id\":\"36397\"},\"selection_glyph\":null,\"view\":{\"id\":\"36399\"}},\"id\":\"36398\",\"type\":\"GlyphRenderer\"},{\"attributes\":{\"line_alpha\":0.1,\"line_color\":\"#ffbb78\",\"line_width\":2,\"x\":{\"field\":\"x\"},\"y\":{\"field\":\"y\"}},\"id\":\"36378\",\"type\":\"Line\"},{\"attributes\":{\"line_alpha\":0.1,\"line_color\":\"#2ca02c\",\"line_width\":2,\"x\":{\"field\":\"x\"},\"y\":{\"field\":\"y\"}},\"id\":\"36397\",\"type\":\"Line\"},{\"attributes\":{\"label\":{\"value\":\"Susceptible\"},\"renderers\":[{\"id\":\"36333\"}]},\"id\":\"36343\",\"type\":\"LegendItem\"},{\"attributes\":{},\"id\":\"36317\",\"type\":\"WheelZoomTool\"},{\"attributes\":{\"line_alpha\":0.1,\"line_color\":\"#98df8a\",\"line_width\":2,\"x\":{\"field\":\"x\"},\"y\":{\"field\":\"y\"}},\"id\":\"36418\",\"type\":\"Line\"},{\"attributes\":{\"bottom_units\":\"screen\",\"fill_alpha\":0.5,\"fill_color\":\"lightgrey\",\"left_units\":\"screen\",\"level\":\"overlay\",\"line_alpha\":1.0,\"line_color\":\"black\",\"line_dash\":[4,4],\"line_width\":2,\"render_mode\":\"css\",\"right_units\":\"screen\",\"top_units\":\"screen\"},\"id\":\"36322\",\"type\":\"BoxAnnotation\"},{\"attributes\":{},\"id\":\"36413\",\"type\":\"UnionRenderers\"},{\"attributes\":{},\"id\":\"36302\",\"type\":\"DataRange1d\"},{\"attributes\":{},\"id\":\"36321\",\"type\":\"HelpTool\"},{\"attributes\":{},\"id\":\"36393\",\"type\":\"Selection\"},{\"attributes\":{\"data_source\":{\"id\":\"36330\"},\"glyph\":{\"id\":\"36331\"},\"hover_glyph\":null,\"muted_glyph\":null,\"nonselection_glyph\":{\"id\":\"36332\"},\"selection_glyph\":null,\"view\":{\"id\":\"36334\"}},\"id\":\"36333\",\"type\":\"GlyphRenderer\"},{\"attributes\":{\"label\":{\"value\":\"Recovered\"},\"renderers\":[{\"id\":\"36398\"}]},\"id\":\"36415\",\"type\":\"LegendItem\"},{\"attributes\":{},\"id\":\"36337\",\"type\":\"BasicTickFormatter\"},{\"attributes\":{\"axis\":{\"id\":\"36312\"},\"dimension\":1,\"grid_line_alpha\":0.5,\"ticker\":null},\"id\":\"36315\",\"type\":\"Grid\"},{\"attributes\":{\"line_alpha\":0.5,\"line_color\":\"#1f77b4\",\"line_width\":2,\"x\":{\"field\":\"x\"},\"y\":{\"field\":\"y\"}},\"id\":\"36331\",\"type\":\"Line\"},{\"attributes\":{\"data\":{\"x\":[0,1,2,3,4,5,6,7,8,9,10,11,12,13,14,15,16,17,18,19,20,21,22,23,24,25,26,27,28,29,30,31,32,33,34,35,36,37,38,39,40,41,42,43,44,45,46,47,48,49,50,51,52,53,54,55,56,57,58,59],\"y\":{\"__ndarray__\":\"AAAAAAAAAAAAAAAAAAAgQAAAAAAAABhAAAAAAAAA8D8AAAAAAAAqQAAAAAAAADRAAAAAAAAAOUAAAAAAAAAgQAAAAAAAACpAAAAAAAAAMEAAAAAAAAA1QAAAAAAAAChAAAAAAAAAJMAAAAAAAAAxQAAAAAAAABxAAAAAAAAACEAAAAAAAAAQwAAAAAAAAAjAAAAAAAAA8D8AAAAAAAAIwAAAAAAAAAhAAAAAAAAAKsAAAAAAAAAIwAAAAAAAABTAAAAAAAAA8D8AAAAAAAAQwAAAAAAAABTAAAAAAAAAHMAAAAAAAAAAwAAAAAAAACTAAAAAAAAAFMAAAAAAAADwPwAAAAAAABTAAAAAAAAALsAAAAAAAAAIwAAAAAAAABjAAAAAAAAAFMAAAAAAAAAIwAAAAAAAAADAAAAAAAAAAAAAAAAAAADwPwAAAAAAAADAAAAAAAAA8L8AAAAAAAAcwAAAAAAAAAjAAAAAAAAA8L8AAAAAAAAUwAAAAAAAAAhAAAAAAAAAEMAAAAAAAADwPwAAAAAAAPC/AAAAAAAACMAAAAAAAAAAwAAAAAAAAAjAAAAAAAAAAAAAAAAAAADwPwAAAAAAAADAAAAAAAAAFMAAAAAAAADwvwAAAAAAAPA/\",\"dtype\":\"float64\",\"shape\":[60]}},\"selected\":{\"id\":\"36414\"},\"selection_policy\":{\"id\":\"36413\"}},\"id\":\"36376\",\"type\":\"ColumnDataSource\"},{\"attributes\":{\"source\":{\"id\":\"36395\"}},\"id\":\"36399\",\"type\":\"CDSView\"},{\"attributes\":{\"source\":{\"id\":\"36359\"}},\"id\":\"36363\",\"type\":\"CDSView\"},{\"attributes\":{\"line_alpha\":0.5,\"line_color\":\"#ff7f0e\",\"line_width\":2,\"x\":{\"field\":\"x\"},\"y\":{\"field\":\"y\"}},\"id\":\"36360\",\"type\":\"Line\"},{\"attributes\":{},\"id\":\"36339\",\"type\":\"BasicTickFormatter\"},{\"attributes\":{},\"id\":\"36300\",\"type\":\"DataRange1d\"},{\"attributes\":{\"items\":[{\"id\":\"36343\"},{\"id\":\"36358\"},{\"id\":\"36375\"},{\"id\":\"36394\"},{\"id\":\"36415\"},{\"id\":\"36438\"}],\"orientation\":\"horizontal\"},\"id\":\"36342\",\"type\":\"Legend\"},{\"attributes\":{\"axis_label\":\"#Delta Nodes\",\"formatter\":{\"id\":\"36337\"},\"ticker\":{\"id\":\"36313\"}},\"id\":\"36312\",\"type\":\"LinearAxis\"},{\"attributes\":{},\"id\":\"36320\",\"type\":\"ResetTool\"},{\"attributes\":{\"line_alpha\":0.5,\"line_color\":\"#aec7e8\",\"line_width\":2,\"x\":{\"field\":\"x\"},\"y\":{\"field\":\"y\"}},\"id\":\"36345\",\"type\":\"Line\"},{\"attributes\":{\"data\":{\"x\":[0,1,2,3,4,5,6,7,8,9,10,11,12,13,14,15,16,17,18,19,20,21,22,23,24,25,26,27,28,29,30,31,32,33,34,35,36,37,38,39,40,41,42,43,44,45,46,47,48,49,50,51,52,53,54,55,56,57,58,59],\"y\":{\"__ndarray__\":\"AAAAAAAAAAAAAAAAAAAAAAAAAAAAAAAAAAAAAAAAAEAAAAAAAAAAAAAAAAAAAAAAAAAAAAAA8D8AAAAAAAAYQAAAAAAAABhAAAAAAAAAAEAAAAAAAAAIQAAAAAAAABBAAAAAAAAAKkAAAAAAAAAcQAAAAAAAABhAAAAAAAAAIEAAAAAAAAAiQAAAAAAAACRAAAAAAAAAJEAAAAAAAAAiQAAAAAAAACRAAAAAAAAAKkAAAAAAAAAIQAAAAAAAABhAAAAAAAAAEEAAAAAAAAAYQAAAAAAAABRAAAAAAAAACEAAAAAAAAAYQAAAAAAAAAhAAAAAAAAAHEAAAAAAAAAAQAAAAAAAABBAAAAAAAAAHEAAAAAAAAAIQAAAAAAAAAAAAAAAAAAAAEAAAAAAAAAIQAAAAAAAAABAAAAAAAAA8D8AAAAAAADwPwAAAAAAAAAAAAAAAAAA8D8AAAAAAAAIQAAAAAAAAABAAAAAAAAA8D8AAAAAAAAAQAAAAAAAAAAAAAAAAAAA8D8AAAAAAAAAAAAAAAAAAPA/AAAAAAAAAAAAAAAAAADwPwAAAAAAAABAAAAAAAAA8D8AAAAAAADwPwAAAAAAAABAAAAAAAAAEEAAAAAAAAAAAAAAAAAAAPA/\",\"dtype\":\"float64\",\"shape\":[60]}},\"selected\":{\"id\":\"37382\"},\"selection_policy\":{\"id\":\"37381\"}},\"id\":\"36416\",\"type\":\"ColumnDataSource\"},{\"attributes\":{\"axis_label\":\"Iterations\",\"formatter\":{\"id\":\"36339\"},\"ticker\":{\"id\":\"36309\"}},\"id\":\"36308\",\"type\":\"LinearAxis\"},{\"attributes\":{},\"id\":\"36319\",\"type\":\"SaveTool\"},{\"attributes\":{\"line_alpha\":0.1,\"line_color\":\"#aec7e8\",\"line_width\":2,\"x\":{\"field\":\"x\"},\"y\":{\"field\":\"y\"}},\"id\":\"36346\",\"type\":\"Line\"},{\"attributes\":{\"source\":{\"id\":\"36376\"}},\"id\":\"36380\",\"type\":\"CDSView\"},{\"attributes\":{},\"id\":\"36316\",\"type\":\"PanTool\"},{\"attributes\":{},\"id\":\"36357\",\"type\":\"Selection\"},{\"attributes\":{\"overlay\":{\"id\":\"36322\"}},\"id\":\"36318\",\"type\":\"BoxZoomTool\"}],\"root_ids\":[\"36299\"]},\"title\":\"Bokeh Application\",\"version\":\"2.0.1\"}};\n",
       "  var render_items = [{\"docid\":\"3a5eacbd-3ee2-4c94-9fb5-b9e499c899b3\",\"root_ids\":[\"36299\"],\"roots\":{\"36299\":\"1b8851aa-632f-43fc-9e3f-bd41ba98a70c\"}}];\n",
       "  root.Bokeh.embed.embed_items_notebook(docs_json, render_items);\n",
       "\n",
       "  }\n",
       "  if (root.Bokeh !== undefined) {\n",
       "    embed_document(root);\n",
       "  } else {\n",
       "    var attempts = 0;\n",
       "    var timer = setInterval(function(root) {\n",
       "      if (root.Bokeh !== undefined) {\n",
       "        clearInterval(timer);\n",
       "        embed_document(root);\n",
       "      } else {\n",
       "        attempts++;\n",
       "        if (attempts > 100) {\n",
       "          clearInterval(timer);\n",
       "          console.log(\"Bokeh: ERROR: Unable to run BokehJS code because BokehJS library is missing\");\n",
       "        }\n",
       "      }\n",
       "    }, 10, root)\n",
       "  }\n",
       "})(window);"
      ],
      "application/vnd.bokehjs_exec.v0+json": ""
     },
     "metadata": {
      "application/vnd.bokehjs_exec.v0+json": {
       "id": "36299"
      }
     },
     "output_type": "display_data"
    }
   ],
   "source": [
    "# Visualization prevalence\n",
    "viz = DiffusionPrevalence(model, trends)\n",
    "p = viz.plot(width=800, height=600)\n",
    "show(p)"
   ]
  },
  {
   "cell_type": "code",
   "execution_count": null,
   "metadata": {},
   "outputs": [],
   "source": []
  },
  {
   "cell_type": "code",
   "execution_count": null,
   "metadata": {},
   "outputs": [],
   "source": []
  },
  {
   "cell_type": "code",
   "execution_count": null,
   "metadata": {},
   "outputs": [],
   "source": []
  }
 ],
 "metadata": {
  "kernelspec": {
   "display_name": "Python 3",
   "language": "python",
   "name": "python3"
  },
  "language_info": {
   "codemirror_mode": {
    "name": "ipython",
    "version": 3
   },
   "file_extension": ".py",
   "mimetype": "text/x-python",
   "name": "python",
   "nbconvert_exporter": "python",
   "pygments_lexer": "ipython3",
   "version": "3.7.6"
  }
 },
 "nbformat": 4,
 "nbformat_minor": 4
}
